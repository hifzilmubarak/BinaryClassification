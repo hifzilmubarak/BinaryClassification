{
 "cells": [
  {
   "cell_type": "markdown",
   "metadata": {
    "id": "z8MPRrMVMUsb"
   },
   "source": [
    "# Binary Classification"
   ]
  },
  {
   "cell_type": "code",
   "execution_count": null,
   "metadata": {
    "colab": {
     "base_uri": "https://localhost:8080/"
    },
    "executionInfo": {
     "elapsed": 5,
     "status": "ok",
     "timestamp": 1628840911521,
     "user": {
      "displayName": "Amri Muhaimin",
      "photoUrl": "https://lh3.googleusercontent.com/a-/AOh14GigmwSQWVYPDQmlSHUTZEdOIKMibqKgirvfe2FW7w=s64",
      "userId": "06782114813934659848"
     },
     "user_tz": -420
    },
    "id": "DTQUbnaJMzDA",
    "outputId": "dddf53ea-9617-44db-957b-b88973d7f9c1"
   },
   "outputs": [
    {
     "name": "stdout",
     "output_type": "stream",
     "text": [
      "Drive already mounted at /content/drive; to attempt to forcibly remount, call drive.mount(\"/content/drive\", force_remount=True).\n"
     ]
    }
   ],
   "source": [
    "from google.colab import drive\n",
    "drive.mount('/content/drive')"
   ]
  },
  {
   "cell_type": "markdown",
   "metadata": {
    "id": "aAjwUyPxyUN8"
   },
   "source": [
    "## Problem Statement\n",
    "\n",
    "An insurance company\n",
    "Diberikan data suatu perusahaan asuransi berupa rincian nasabah hasil mengisi form online. Sebagai orang yang bekerja di bidang asuransi anda berkewajiban untuk menilai manakah nasabah yang berhak diberikan pinjaman dan mana yang tidak berdasarkan riwayat dari nasabah-nasabah sebelumnya. Data baru yang terkumpul setiap harinya selalu bertambah pesat, sehingga tidak memungkinkan untuk di lakukan pengecekan secara manual. Anda diminta untuk membuat automasi program yang dapat memprediksi nasabah baru apakah nasabah yang mengajukan pinjaman akan mengalami kesulitan pembayaran atau tidak. Data yang anda miliki adalah sebagai berikut:<br>\n",
    "Loan_ID : Nomor unik yang diberikan untuk setiap nasabah yang mengajukan pinjaman <br>\n",
    "Gender : Jenis kelamin nasabah<br>\n",
    "Married : Status pernikahan nasabah<br>\n",
    "Dependents : Tanggungan nyawa yang harus ditanggung nasabah<br>\n",
    "Education : Pendidikan terakhir nasabah<br>\n",
    "Self_Employed : Status pekerjaan nasabah<br>\n",
    "ApplicantIncome : Pendapatan nasabah yang mengajukan pinjaman<br>\n",
    "CoapplicantIncome : Pendapatan pemohon bersama<br>\n",
    "LoanAmount : Jumlah pinjaman yang diajukan <br>\n",
    "Loan_Amount_Term : Jangka waktu pinjaman<br>\n",
    "Credit_History : Riwayat kredit<br>\n",
    "Property_Area : Kondisi area dari properti yang dimiliki pemohon<br>\n",
    "Loan_Status : Status pinjaman yang dimiliki, berhutang atau tidak<br>"
   ]
  },
  {
   "cell_type": "markdown",
   "metadata": {
    "id": "88Di3OK9jXiO"
   },
   "source": [
    "## 1. Import Libraries and Data"
   ]
  },
  {
   "cell_type": "markdown",
   "metadata": {
    "id": "ii04q86eksFn"
   },
   "source": [
    "IMPORT PACKAGES"
   ]
  },
  {
   "cell_type": "code",
   "execution_count": 1,
   "metadata": {
    "id": "SnGZqpHB8xw2"
   },
   "outputs": [],
   "source": [
    "# Import Package\n",
    "import os\n",
    "import pandas as pd\n",
    "import numpy as np\n",
    "\n",
    "# Package untuk visualisasi\n",
    "import matplotlib.pyplot as plt\n",
    "import seaborn as sns\n",
    "\n",
    "# Package untuk cleaning, modelling, dan evaluation model\n",
    "import statsmodels.api as sm\n",
    "from sklearn.preprocessing import LabelEncoder, StandardScaler, MinMaxScaler\n",
    "from sklearn.model_selection import train_test_split, cross_validate, cross_val_score, KFold, GridSearchCV\n",
    "from sklearn.metrics import accuracy_score, precision_score, recall_score, f1_score\n",
    "from sklearn.linear_model import LogisticRegression\n",
    "from sklearn.svm import SVC"
   ]
  },
  {
   "cell_type": "code",
   "execution_count": 2,
   "metadata": {
    "id": "QygRLGamfUEb"
   },
   "outputs": [],
   "source": [
    "# Membuat path untuk mengidentifikasi letak directory\n",
    "# Catatan : pastikan path yang anda masukkan sesuai dengan directory data anda. Kemungkinan besar path di contoh ini berbeda dengan penyimpanan data anda\n",
    "path = '/content/drive/MyDrive/Meet 3 Binary Classification/Data/'"
   ]
  },
  {
   "cell_type": "markdown",
   "metadata": {
    "id": "5Q74U6vVlwfN"
   },
   "source": [
    "IMPORT DATA"
   ]
  },
  {
   "cell_type": "code",
   "execution_count": 4,
   "metadata": {
    "colab": {
     "base_uri": "https://localhost:8080/",
     "height": 275
    },
    "executionInfo": {
     "elapsed": 24,
     "status": "ok",
     "timestamp": 1628842013806,
     "user": {
      "displayName": "Amri Muhaimin",
      "photoUrl": "https://lh3.googleusercontent.com/a-/AOh14GigmwSQWVYPDQmlSHUTZEdOIKMibqKgirvfe2FW7w=s64",
      "userId": "06782114813934659848"
     },
     "user_tz": -420
    },
    "id": "88kay5vq823W",
    "outputId": "de42ed8a-a27e-4e57-f780-8fe715df028b"
   },
   "outputs": [
    {
     "data": {
      "text/html": [
       "<div>\n",
       "<style scoped>\n",
       "    .dataframe tbody tr th:only-of-type {\n",
       "        vertical-align: middle;\n",
       "    }\n",
       "\n",
       "    .dataframe tbody tr th {\n",
       "        vertical-align: top;\n",
       "    }\n",
       "\n",
       "    .dataframe thead th {\n",
       "        text-align: right;\n",
       "    }\n",
       "</style>\n",
       "<table border=\"1\" class=\"dataframe\">\n",
       "  <thead>\n",
       "    <tr style=\"text-align: right;\">\n",
       "      <th></th>\n",
       "      <th>Gender</th>\n",
       "      <th>Married</th>\n",
       "      <th>Dependents</th>\n",
       "      <th>Education</th>\n",
       "      <th>Self_Employed</th>\n",
       "      <th>ApplicantIncome</th>\n",
       "      <th>CoapplicantIncome</th>\n",
       "      <th>LoanAmount</th>\n",
       "      <th>Loan_Amount_Term</th>\n",
       "      <th>Credit_History</th>\n",
       "      <th>Property_Area</th>\n",
       "      <th>Loan_Status</th>\n",
       "    </tr>\n",
       "    <tr>\n",
       "      <th>Loan_ID</th>\n",
       "      <th></th>\n",
       "      <th></th>\n",
       "      <th></th>\n",
       "      <th></th>\n",
       "      <th></th>\n",
       "      <th></th>\n",
       "      <th></th>\n",
       "      <th></th>\n",
       "      <th></th>\n",
       "      <th></th>\n",
       "      <th></th>\n",
       "      <th></th>\n",
       "    </tr>\n",
       "  </thead>\n",
       "  <tbody>\n",
       "    <tr>\n",
       "      <th>LP001002</th>\n",
       "      <td>Male</td>\n",
       "      <td>No</td>\n",
       "      <td>0</td>\n",
       "      <td>Graduate</td>\n",
       "      <td>No</td>\n",
       "      <td>5849</td>\n",
       "      <td>0.0</td>\n",
       "      <td>NaN</td>\n",
       "      <td>360.0</td>\n",
       "      <td>1.0</td>\n",
       "      <td>Urban</td>\n",
       "      <td>Y</td>\n",
       "    </tr>\n",
       "    <tr>\n",
       "      <th>LP001003</th>\n",
       "      <td>Male</td>\n",
       "      <td>Yes</td>\n",
       "      <td>1</td>\n",
       "      <td>Graduate</td>\n",
       "      <td>No</td>\n",
       "      <td>4583</td>\n",
       "      <td>1508.0</td>\n",
       "      <td>128.0</td>\n",
       "      <td>360.0</td>\n",
       "      <td>1.0</td>\n",
       "      <td>Rural</td>\n",
       "      <td>N</td>\n",
       "    </tr>\n",
       "    <tr>\n",
       "      <th>LP001005</th>\n",
       "      <td>Male</td>\n",
       "      <td>Yes</td>\n",
       "      <td>0</td>\n",
       "      <td>Graduate</td>\n",
       "      <td>Yes</td>\n",
       "      <td>3000</td>\n",
       "      <td>0.0</td>\n",
       "      <td>66.0</td>\n",
       "      <td>360.0</td>\n",
       "      <td>1.0</td>\n",
       "      <td>Urban</td>\n",
       "      <td>Y</td>\n",
       "    </tr>\n",
       "    <tr>\n",
       "      <th>LP001006</th>\n",
       "      <td>Male</td>\n",
       "      <td>Yes</td>\n",
       "      <td>0</td>\n",
       "      <td>Not Graduate</td>\n",
       "      <td>No</td>\n",
       "      <td>2583</td>\n",
       "      <td>2358.0</td>\n",
       "      <td>120.0</td>\n",
       "      <td>360.0</td>\n",
       "      <td>1.0</td>\n",
       "      <td>Urban</td>\n",
       "      <td>Y</td>\n",
       "    </tr>\n",
       "    <tr>\n",
       "      <th>LP001008</th>\n",
       "      <td>Male</td>\n",
       "      <td>No</td>\n",
       "      <td>0</td>\n",
       "      <td>Graduate</td>\n",
       "      <td>No</td>\n",
       "      <td>6000</td>\n",
       "      <td>0.0</td>\n",
       "      <td>141.0</td>\n",
       "      <td>360.0</td>\n",
       "      <td>1.0</td>\n",
       "      <td>Urban</td>\n",
       "      <td>Y</td>\n",
       "    </tr>\n",
       "  </tbody>\n",
       "</table>\n",
       "</div>"
      ],
      "text/plain": [
       "         Gender Married Dependents     Education Self_Employed  \\\n",
       "Loan_ID                                                          \n",
       "LP001002   Male      No          0      Graduate            No   \n",
       "LP001003   Male     Yes          1      Graduate            No   \n",
       "LP001005   Male     Yes          0      Graduate           Yes   \n",
       "LP001006   Male     Yes          0  Not Graduate            No   \n",
       "LP001008   Male      No          0      Graduate            No   \n",
       "\n",
       "          ApplicantIncome  CoapplicantIncome  LoanAmount  Loan_Amount_Term  \\\n",
       "Loan_ID                                                                      \n",
       "LP001002             5849                0.0         NaN             360.0   \n",
       "LP001003             4583             1508.0       128.0             360.0   \n",
       "LP001005             3000                0.0        66.0             360.0   \n",
       "LP001006             2583             2358.0       120.0             360.0   \n",
       "LP001008             6000                0.0       141.0             360.0   \n",
       "\n",
       "          Credit_History Property_Area Loan_Status  \n",
       "Loan_ID                                             \n",
       "LP001002             1.0         Urban           Y  \n",
       "LP001003             1.0         Rural           N  \n",
       "LP001005             1.0         Urban           Y  \n",
       "LP001006             1.0         Urban           Y  \n",
       "LP001008             1.0         Urban           Y  "
      ]
     },
     "execution_count": 4,
     "metadata": {},
     "output_type": "execute_result"
    }
   ],
   "source": [
    "# Load data\n",
    "df = pd.read_csv(\"loan_prediction.csv\", encoding='utf-8', index_col='Loan_ID')\n",
    "df.head()"
   ]
  },
  {
   "cell_type": "markdown",
   "metadata": {
    "id": "Q0kYNwBuyo40"
   },
   "source": [
    "Dari data diatas maka bisa didapat keterangan bahwa <br>\n",
    "x = Gender, Married, Dependents, Education, Self_Employed, ApplicantIncome, CoapplicantIncome, LoanAmount, Loan_Amount_Term, Credit_History, Property_Area <br>\n",
    "y = Loan_Status"
   ]
  },
  {
   "cell_type": "markdown",
   "metadata": {
    "id": "ooXG_yttmnNU"
   },
   "source": [
    "## 2. Exploratory Data Analysis (EDA)"
   ]
  },
  {
   "cell_type": "code",
   "execution_count": 5,
   "metadata": {
    "colab": {
     "base_uri": "https://localhost:8080/"
    },
    "executionInfo": {
     "elapsed": 1212,
     "status": "ok",
     "timestamp": 1628842017380,
     "user": {
      "displayName": "Amri Muhaimin",
      "photoUrl": "https://lh3.googleusercontent.com/a-/AOh14GigmwSQWVYPDQmlSHUTZEdOIKMibqKgirvfe2FW7w=s64",
      "userId": "06782114813934659848"
     },
     "user_tz": -420
    },
    "id": "Tsa4dQbZ9Gts",
    "outputId": "3f372492-fdfa-4a5e-aae4-fde02a29050c"
   },
   "outputs": [
    {
     "name": "stdout",
     "output_type": "stream",
     "text": [
      "<class 'pandas.core.frame.DataFrame'>\n",
      "Index: 614 entries, LP001002 to LP002990\n",
      "Data columns (total 12 columns):\n",
      " #   Column             Non-Null Count  Dtype  \n",
      "---  ------             --------------  -----  \n",
      " 0   Gender             601 non-null    object \n",
      " 1   Married            611 non-null    object \n",
      " 2   Dependents         599 non-null    object \n",
      " 3   Education          614 non-null    object \n",
      " 4   Self_Employed      582 non-null    object \n",
      " 5   ApplicantIncome    614 non-null    int64  \n",
      " 6   CoapplicantIncome  614 non-null    float64\n",
      " 7   LoanAmount         592 non-null    float64\n",
      " 8   Loan_Amount_Term   600 non-null    float64\n",
      " 9   Credit_History     564 non-null    float64\n",
      " 10  Property_Area      614 non-null    object \n",
      " 11  Loan_Status        614 non-null    object \n",
      "dtypes: float64(4), int64(1), object(7)\n",
      "memory usage: 62.4+ KB\n"
     ]
    }
   ],
   "source": [
    "# Cek informasi yang terdapat di data\n",
    "df.info()"
   ]
  },
  {
   "cell_type": "markdown",
   "metadata": {
    "id": "_7GSjv39nUmn"
   },
   "source": [
    "Akan dicari tahu, apakah status orang yang meminjam lebih banyak dibandingkan yang tidak atau sebaliknya ?"
   ]
  },
  {
   "cell_type": "code",
   "execution_count": 6,
   "metadata": {
    "colab": {
     "base_uri": "https://localhost:8080/",
     "height": 248
    },
    "executionInfo": {
     "elapsed": 106,
     "status": "ok",
     "timestamp": 1628842018230,
     "user": {
      "displayName": "Amri Muhaimin",
      "photoUrl": "https://lh3.googleusercontent.com/a-/AOh14GigmwSQWVYPDQmlSHUTZEdOIKMibqKgirvfe2FW7w=s64",
      "userId": "06782114813934659848"
     },
     "user_tz": -420
    },
    "id": "353QvHczgNoI",
    "outputId": "ddf5a70f-9555-4b31-a6ca-428a922d52ff"
   },
   "outputs": [
    {
     "data": {
      "image/png": "[encoded data removed]",
      "text/plain": [
       "<Figure size 432x288 with 1 Axes>"
      ]
     },
     "metadata": {},
     "output_type": "display_data"
    }
   ],
   "source": [
    "# Mencari perbandingan label/class\n",
    "df['Loan_Status'].value_counts().plot.pie(autopct='%1.1f%%',shadow=True)\n",
    "plt.show()"
   ]
  },
  {
   "cell_type": "markdown",
   "metadata": {
    "id": "lcPSGE5DndiM"
   },
   "source": [
    "Bisa dikatakan bahwa data masih tergolong balance. Status orang yang memiliki pinjaman tidak berbeda jauh dengan yang tidak meminjam."
   ]
  },
  {
   "cell_type": "code",
   "execution_count": 7,
   "metadata": {
    "colab": {
     "base_uri": "https://localhost:8080/",
     "height": 300
    },
    "executionInfo": {
     "elapsed": 84,
     "status": "ok",
     "timestamp": 1628842018232,
     "user": {
      "displayName": "Amri Muhaimin",
      "photoUrl": "https://lh3.googleusercontent.com/a-/AOh14GigmwSQWVYPDQmlSHUTZEdOIKMibqKgirvfe2FW7w=s64",
      "userId": "06782114813934659848"
     },
     "user_tz": -420
    },
    "id": "j5z7J3h1q6dE",
    "outputId": "94088d18-ab06-42b9-af6b-2b07381cc3e1"
   },
   "outputs": [
    {
     "data": {
      "text/html": [
       "<div>\n",
       "<style scoped>\n",
       "    .dataframe tbody tr th:only-of-type {\n",
       "        vertical-align: middle;\n",
       "    }\n",
       "\n",
       "    .dataframe tbody tr th {\n",
       "        vertical-align: top;\n",
       "    }\n",
       "\n",
       "    .dataframe thead th {\n",
       "        text-align: right;\n",
       "    }\n",
       "</style>\n",
       "<table border=\"1\" class=\"dataframe\">\n",
       "  <thead>\n",
       "    <tr style=\"text-align: right;\">\n",
       "      <th></th>\n",
       "      <th>ApplicantIncome</th>\n",
       "      <th>CoapplicantIncome</th>\n",
       "      <th>LoanAmount</th>\n",
       "      <th>Loan_Amount_Term</th>\n",
       "      <th>Credit_History</th>\n",
       "    </tr>\n",
       "  </thead>\n",
       "  <tbody>\n",
       "    <tr>\n",
       "      <th>count</th>\n",
       "      <td>614.000000</td>\n",
       "      <td>614.000000</td>\n",
       "      <td>592.000000</td>\n",
       "      <td>600.00000</td>\n",
       "      <td>564.000000</td>\n",
       "    </tr>\n",
       "    <tr>\n",
       "      <th>mean</th>\n",
       "      <td>5403.459283</td>\n",
       "      <td>1621.245798</td>\n",
       "      <td>146.412162</td>\n",
       "      <td>342.00000</td>\n",
       "      <td>0.842199</td>\n",
       "    </tr>\n",
       "    <tr>\n",
       "      <th>std</th>\n",
       "      <td>6109.041673</td>\n",
       "      <td>2926.248369</td>\n",
       "      <td>85.587325</td>\n",
       "      <td>65.12041</td>\n",
       "      <td>0.364878</td>\n",
       "    </tr>\n",
       "    <tr>\n",
       "      <th>min</th>\n",
       "      <td>150.000000</td>\n",
       "      <td>0.000000</td>\n",
       "      <td>9.000000</td>\n",
       "      <td>12.00000</td>\n",
       "      <td>0.000000</td>\n",
       "    </tr>\n",
       "    <tr>\n",
       "      <th>25%</th>\n",
       "      <td>2877.500000</td>\n",
       "      <td>0.000000</td>\n",
       "      <td>100.000000</td>\n",
       "      <td>360.00000</td>\n",
       "      <td>1.000000</td>\n",
       "    </tr>\n",
       "    <tr>\n",
       "      <th>50%</th>\n",
       "      <td>3812.500000</td>\n",
       "      <td>1188.500000</td>\n",
       "      <td>128.000000</td>\n",
       "      <td>360.00000</td>\n",
       "      <td>1.000000</td>\n",
       "    </tr>\n",
       "    <tr>\n",
       "      <th>75%</th>\n",
       "      <td>5795.000000</td>\n",
       "      <td>2297.250000</td>\n",
       "      <td>168.000000</td>\n",
       "      <td>360.00000</td>\n",
       "      <td>1.000000</td>\n",
       "    </tr>\n",
       "    <tr>\n",
       "      <th>max</th>\n",
       "      <td>81000.000000</td>\n",
       "      <td>41667.000000</td>\n",
       "      <td>700.000000</td>\n",
       "      <td>480.00000</td>\n",
       "      <td>1.000000</td>\n",
       "    </tr>\n",
       "  </tbody>\n",
       "</table>\n",
       "</div>"
      ],
      "text/plain": [
       "       ApplicantIncome  CoapplicantIncome  LoanAmount  Loan_Amount_Term  \\\n",
       "count       614.000000         614.000000  592.000000         600.00000   \n",
       "mean       5403.459283        1621.245798  146.412162         342.00000   \n",
       "std        6109.041673        2926.248369   85.587325          65.12041   \n",
       "min         150.000000           0.000000    9.000000          12.00000   \n",
       "25%        2877.500000           0.000000  100.000000         360.00000   \n",
       "50%        3812.500000        1188.500000  128.000000         360.00000   \n",
       "75%        5795.000000        2297.250000  168.000000         360.00000   \n",
       "max       81000.000000       41667.000000  700.000000         480.00000   \n",
       "\n",
       "       Credit_History  \n",
       "count      564.000000  \n",
       "mean         0.842199  \n",
       "std          0.364878  \n",
       "min          0.000000  \n",
       "25%          1.000000  \n",
       "50%          1.000000  \n",
       "75%          1.000000  \n",
       "max          1.000000  "
      ]
     },
     "execution_count": 7,
     "metadata": {},
     "output_type": "execute_result"
    }
   ],
   "source": [
    "# Analisa deskriptif\n",
    "df.describe()"
   ]
  },
  {
   "cell_type": "markdown",
   "metadata": {
    "id": "q3mf8xL3suSA"
   },
   "source": [
    "Apabila dilihat dari CoapplicantIncome didapat bahwa minimum income adalah 0 dan 0 pula di Q1. Akan dicari tahu apakah status pernikahan berpengaruh terhadap pencantuman besaran CoapplicantIncome?"
   ]
  },
  {
   "cell_type": "code",
   "execution_count": 9,
   "metadata": {
    "colab": {
     "base_uri": "https://localhost:8080/",
     "height": 279
    },
    "executionInfo": {
     "elapsed": 30,
     "status": "ok",
     "timestamp": 1628842021032,
     "user": {
      "displayName": "Amri Muhaimin",
      "photoUrl": "https://lh3.googleusercontent.com/a-/AOh14GigmwSQWVYPDQmlSHUTZEdOIKMibqKgirvfe2FW7w=s64",
      "userId": "06782114813934659848"
     },
     "user_tz": -420
    },
    "id": "xpF0c4-D1g2-",
    "outputId": "8438d3dc-daa2-466d-d568-125ab5ece3b1"
   },
   "outputs": [],
   "source": [
    "# Buat Crosstab antara merried status dan coapplicant income\n",
    "married_income = pd.crosstab(df['Married'], (df['CoapplicantIncome']==0))"
   ]
  },
  {
   "cell_type": "code",
   "execution_count": 10,
   "metadata": {},
   "outputs": [
    {
     "data": {
      "text/html": [
       "<div>\n",
       "<style scoped>\n",
       "    .dataframe tbody tr th:only-of-type {\n",
       "        vertical-align: middle;\n",
       "    }\n",
       "\n",
       "    .dataframe tbody tr th {\n",
       "        vertical-align: top;\n",
       "    }\n",
       "\n",
       "    .dataframe thead th {\n",
       "        text-align: right;\n",
       "    }\n",
       "</style>\n",
       "<table border=\"1\" class=\"dataframe\">\n",
       "  <thead>\n",
       "    <tr style=\"text-align: right;\">\n",
       "      <th>CoapplicantIncome</th>\n",
       "      <th>False</th>\n",
       "      <th>True</th>\n",
       "    </tr>\n",
       "    <tr>\n",
       "      <th>Married</th>\n",
       "      <th></th>\n",
       "      <th></th>\n",
       "    </tr>\n",
       "  </thead>\n",
       "  <tbody>\n",
       "    <tr>\n",
       "      <th>No</th>\n",
       "      <td>70</td>\n",
       "      <td>143</td>\n",
       "    </tr>\n",
       "    <tr>\n",
       "      <th>Yes</th>\n",
       "      <td>270</td>\n",
       "      <td>128</td>\n",
       "    </tr>\n",
       "  </tbody>\n",
       "</table>\n",
       "</div>"
      ],
      "text/plain": [
       "CoapplicantIncome  False  True\n",
       "Married                       \n",
       "No                    70   143\n",
       "Yes                  270   128"
      ]
     },
     "execution_count": 10,
     "metadata": {},
     "output_type": "execute_result"
    }
   ],
   "source": [
    "married_income"
   ]
  },
  {
   "cell_type": "code",
   "execution_count": 11,
   "metadata": {},
   "outputs": [
    {
     "data": {
      "image/png": "[encoded data removed]",
      "text/plain": [
       "<Figure size 432x288 with 1 Axes>"
      ]
     },
     "metadata": {
      "needs_background": "light"
     },
     "output_type": "display_data"
    }
   ],
   "source": [
    "# Buat hasil crosstab menjadi dataframe\n",
    "stacked = married_income.stack().reset_index().rename(columns={0:'value'})\n",
    "sns.barplot(x=stacked.Married, y=stacked.value, hue=stacked.CoapplicantIncome)\n",
    "plt.show()"
   ]
  },
  {
   "cell_type": "markdown",
   "metadata": {
    "id": "WCrW54dh75FD"
   },
   "source": [
    "Dari hasil visualisasi diketahui bahwa orang yang telah menikah cenderung memiliki coapplicant income dibanding dengan yang belum menikah. Sedangkan orang yang belum menikah lebih banyak tidak memiliki coapplicant income dibanding yang mempunyai. Oleh karena itu diasumsikan bahwa applicant dan coapplicant adalah sepasang suami istri.\n",
    "<br>\n",
    "<br>\n",
    "Apakah gender berpengaruh terhadap besarnya income antara applicant dan coapplicant ?"
   ]
  },
  {
   "cell_type": "code",
   "execution_count": 8,
   "metadata": {
    "colab": {
     "base_uri": "https://localhost:8080/",
     "height": 279
    },
    "executionInfo": {
     "elapsed": 40,
     "status": "ok",
     "timestamp": 1628842023278,
     "user": {
      "displayName": "Amri Muhaimin",
      "photoUrl": "https://lh3.googleusercontent.com/a-/AOh14GigmwSQWVYPDQmlSHUTZEdOIKMibqKgirvfe2FW7w=s64",
      "userId": "06782114813934659848"
     },
     "user_tz": -420
    },
    "id": "MXPvJqRHTlT2",
    "outputId": "66456ae4-0c6d-4b86-8260-7fa9a6a71d1b"
   },
   "outputs": [],
   "source": [
    "# Cek antara income bagi yang telah menikah antara applicant dan coapplicant income\n",
    "married_yes = pd.crosstab(df['Gender'], (df['Married']=='Yes') & (df['ApplicantIncome']>df['CoapplicantIncome']))\n",
    "\n",
    "# Buat hasil crosstab menjadi dataframe\n",
    "married_stacked = married_yes.stack().reset_index().rename(columns={0:'value', \"col_0\":\"Income\"})\n",
    "married_stacked\n",
    "sns.barplot(x=married_stacked.Gender, y=married_stacked.value, hue=married_stacked.Income)\n",
    "plt.show()"
   ]
  },
  {
   "cell_type": "markdown",
   "metadata": {
    "id": "5EE28qNcT2d-"
   },
   "source": [
    "Diketahui bahwa bagi orang yang sudah menikah, apabila pendapatan applicant > coapplicant rata-rata yang memenuhi kondisi tersebut adalah laki-laki, dan sebaliknya. Oleh karena itu diasumsikan apabila sudah menikah dan pendapatan applicant lebih tinggi maka dia adalah laki-laki. <br>\n",
    "<br>\n",
    "Lalu, bagaimana jika dengan yang belum menikah ?"
   ]
  },
  {
   "cell_type": "code",
   "execution_count": null,
   "metadata": {
    "colab": {
     "base_uri": "https://localhost:8080/",
     "height": 279
    },
    "executionInfo": {
     "elapsed": 64,
     "status": "ok",
     "timestamp": 1628842025529,
     "user": {
      "displayName": "Amri Muhaimin",
      "photoUrl": "https://lh3.googleusercontent.com/a-/AOh14GigmwSQWVYPDQmlSHUTZEdOIKMibqKgirvfe2FW7w=s64",
      "userId": "06782114813934659848"
     },
     "user_tz": -420
    },
    "id": "jFZkpjAkpptZ",
    "outputId": "7d1d4d4f-358a-4aba-81fa-ffe29f57ec96"
   },
   "outputs": [
    {
     "data": {
      "image/png": "[encoded data removed]",
      "text/plain": [
       "<Figure size 432x288 with 1 Axes>"
      ]
     },
     "metadata": {
      "needs_background": "light",
      "tags": []
     },
     "output_type": "display_data"
    }
   ],
   "source": [
    "# Cek antara income bagi yang belum menikah antara applicant dan coapplicant income\n",
    "married_no = pd.crosstab(df['Gender'], (df['Married']=='No') & (df['ApplicantIncome']>df['CoapplicantIncome']))\n",
    "\n",
    "# Buat hasil crosstab menjadi dataframe\n",
    "married_stacked_no = married_no.stack().reset_index().rename(columns={0:'value', \"col_0\":\"Income\"})\n",
    "sns.barplot(x=married_stacked_no.Gender, y=married_stacked_no.value, hue=married_stacked_no.Income)\n",
    "plt.show()"
   ]
  },
  {
   "cell_type": "markdown",
   "metadata": {
    "id": "YoY_jp_AqAj0"
   },
   "source": [
    "Kodisi yang berbeda terjadi bagi orang yang belum menikah. Bagi orang yang belum menikah, apabila pendapatan applicant lebih tinggi maka dia adalah perempuan, dan sebaliknya."
   ]
  },
  {
   "cell_type": "markdown",
   "metadata": {
    "id": "jUDlCOt9sbgZ"
   },
   "source": [
    "Apakah ada pengaruh antara persetujuan status dengan status married dan gender applicant?"
   ]
  },
  {
   "cell_type": "code",
   "execution_count": null,
   "metadata": {
    "colab": {
     "base_uri": "https://localhost:8080/",
     "height": 206
    },
    "executionInfo": {
     "elapsed": 55,
     "status": "ok",
     "timestamp": 1628842027766,
     "user": {
      "displayName": "Amri Muhaimin",
      "photoUrl": "https://lh3.googleusercontent.com/a-/AOh14GigmwSQWVYPDQmlSHUTZEdOIKMibqKgirvfe2FW7w=s64",
      "userId": "06782114813934659848"
     },
     "user_tz": -420
    },
    "id": "Tcpr0S3J4ly5",
    "outputId": "4c3ad6e0-f8f2-4230-bf1f-52c249009ace"
   },
   "outputs": [
    {
     "data": {
      "text/html": [
       "<div>\n",
       "<style scoped>\n",
       "    .dataframe tbody tr th:only-of-type {\n",
       "        vertical-align: middle;\n",
       "    }\n",
       "\n",
       "    .dataframe tbody tr th {\n",
       "        vertical-align: top;\n",
       "    }\n",
       "\n",
       "    .dataframe thead th {\n",
       "        text-align: right;\n",
       "    }\n",
       "</style>\n",
       "<table border=\"1\" class=\"dataframe\">\n",
       "  <thead>\n",
       "    <tr style=\"text-align: right;\">\n",
       "      <th></th>\n",
       "      <th>Loan_Status</th>\n",
       "      <th>False</th>\n",
       "      <th>True</th>\n",
       "    </tr>\n",
       "    <tr>\n",
       "      <th>Married</th>\n",
       "      <th>Gender</th>\n",
       "      <th></th>\n",
       "      <th></th>\n",
       "    </tr>\n",
       "  </thead>\n",
       "  <tbody>\n",
       "    <tr>\n",
       "      <th rowspan=\"2\" valign=\"top\">No</th>\n",
       "      <th>Female</th>\n",
       "      <td>29</td>\n",
       "      <td>51</td>\n",
       "    </tr>\n",
       "    <tr>\n",
       "      <th>Male</th>\n",
       "      <td>49</td>\n",
       "      <td>81</td>\n",
       "    </tr>\n",
       "    <tr>\n",
       "      <th rowspan=\"2\" valign=\"top\">Yes</th>\n",
       "      <th>Female</th>\n",
       "      <td>8</td>\n",
       "      <td>23</td>\n",
       "    </tr>\n",
       "    <tr>\n",
       "      <th>Male</th>\n",
       "      <td>101</td>\n",
       "      <td>256</td>\n",
       "    </tr>\n",
       "  </tbody>\n",
       "</table>\n",
       "</div>"
      ],
      "text/plain": [
       "Loan_Status     False  True \n",
       "Married Gender              \n",
       "No      Female     29     51\n",
       "        Male       49     81\n",
       "Yes     Female      8     23\n",
       "        Male      101    256"
      ]
     },
     "execution_count": 38,
     "metadata": {
      "tags": []
     },
     "output_type": "execute_result"
    }
   ],
   "source": [
    "status_loan = pd.crosstab([df['Married'], df[\"Gender\"]], (df['Loan_Status']=='Y'))\n",
    "status_loan"
   ]
  },
  {
   "cell_type": "markdown",
   "metadata": {
    "id": "eWY4P7TgEFrM"
   },
   "source": [
    "Dari hasil crosstab didapat bahwa status Loan tidak dapat ditentukan dari kedua komponen itu saja, masih banyak pengaruh lainnya."
   ]
  },
  {
   "cell_type": "markdown",
   "metadata": {
    "id": "ZTP9HHggHYCG"
   },
   "source": [
    "Apakah ada kaitannya dengan beban tanggungan yang harus mereka tanggung?"
   ]
  },
  {
   "cell_type": "code",
   "execution_count": null,
   "metadata": {
    "colab": {
     "base_uri": "https://localhost:8080/",
     "height": 206
    },
    "executionInfo": {
     "elapsed": 42,
     "status": "ok",
     "timestamp": 1628842030607,
     "user": {
      "displayName": "Amri Muhaimin",
      "photoUrl": "https://lh3.googleusercontent.com/a-/AOh14GigmwSQWVYPDQmlSHUTZEdOIKMibqKgirvfe2FW7w=s64",
      "userId": "06782114813934659848"
     },
     "user_tz": -420
    },
    "id": "Qi4PDMyXHxuP",
    "outputId": "8f73120d-8e22-41fb-9b63-3cce63fe0782"
   },
   "outputs": [
    {
     "data": {
      "text/html": [
       "<div>\n",
       "<style scoped>\n",
       "    .dataframe tbody tr th:only-of-type {\n",
       "        vertical-align: middle;\n",
       "    }\n",
       "\n",
       "    .dataframe tbody tr th {\n",
       "        vertical-align: top;\n",
       "    }\n",
       "\n",
       "    .dataframe thead th {\n",
       "        text-align: right;\n",
       "    }\n",
       "</style>\n",
       "<table border=\"1\" class=\"dataframe\">\n",
       "  <thead>\n",
       "    <tr style=\"text-align: right;\">\n",
       "      <th></th>\n",
       "      <th>Dependents</th>\n",
       "      <th>False</th>\n",
       "      <th>True</th>\n",
       "    </tr>\n",
       "    <tr>\n",
       "      <th>Gender</th>\n",
       "      <th>Married</th>\n",
       "      <th></th>\n",
       "      <th></th>\n",
       "    </tr>\n",
       "  </thead>\n",
       "  <tbody>\n",
       "    <tr>\n",
       "      <th rowspan=\"2\" valign=\"top\">Female</th>\n",
       "      <th>No</th>\n",
       "      <td>20</td>\n",
       "      <td>60</td>\n",
       "    </tr>\n",
       "    <tr>\n",
       "      <th>Yes</th>\n",
       "      <td>11</td>\n",
       "      <td>20</td>\n",
       "    </tr>\n",
       "    <tr>\n",
       "      <th rowspan=\"2\" valign=\"top\">Male</th>\n",
       "      <th>No</th>\n",
       "      <td>21</td>\n",
       "      <td>109</td>\n",
       "    </tr>\n",
       "    <tr>\n",
       "      <th>Yes</th>\n",
       "      <td>208</td>\n",
       "      <td>149</td>\n",
       "    </tr>\n",
       "  </tbody>\n",
       "</table>\n",
       "</div>"
      ],
      "text/plain": [
       "Dependents      False  True \n",
       "Gender Married              \n",
       "Female No          20     60\n",
       "       Yes         11     20\n",
       "Male   No          21    109\n",
       "       Yes        208    149"
      ]
     },
     "execution_count": 39,
     "metadata": {
      "tags": []
     },
     "output_type": "execute_result"
    }
   ],
   "source": [
    "gender_dependent = pd.crosstab([df['Gender'], df[\"Married\"]], (df['Dependents']==\"0\"))\n",
    "gender_dependent"
   ]
  },
  {
   "cell_type": "markdown",
   "metadata": {
    "id": "ugouTvjQozmh"
   },
   "source": [
    "dari hasil crosstab diketahui bahwa wanita baik yang belum dan sudah menikah kebanyakan tidak memiliki tanggungan nyawa yang harus ditanggung, berbeda dengan laki-laki, laki-laki yang sudah menikah menikah memiliki tanggungan nyawa yang harus ditanggung.<br>\n",
    "Bagaimana pengaruh beban tanggungan terhadap pinjaman ?"
   ]
  },
  {
   "cell_type": "code",
   "execution_count": null,
   "metadata": {
    "colab": {
     "base_uri": "https://localhost:8080/",
     "height": 279
    },
    "executionInfo": {
     "elapsed": 1371,
     "status": "ok",
     "timestamp": 1628842033807,
     "user": {
      "displayName": "Amri Muhaimin",
      "photoUrl": "https://lh3.googleusercontent.com/a-/AOh14GigmwSQWVYPDQmlSHUTZEdOIKMibqKgirvfe2FW7w=s64",
      "userId": "06782114813934659848"
     },
     "user_tz": -420
    },
    "id": "54b18HmjzGRK",
    "outputId": "e62b5d96-721c-40f4-b586-c20da99bf277"
   },
   "outputs": [
    {
     "data": {
      "image/png": "[encoded data removed]",
      "text/plain": [
       "<Figure size 432x288 with 1 Axes>"
      ]
     },
     "metadata": {
      "needs_background": "light",
      "tags": []
     },
     "output_type": "display_data"
    }
   ],
   "source": [
    "# Cek tanggungan terhadap status pinjaman\n",
    "loan_y = pd.crosstab(df['Dependents'], (df['Loan_Status'] == \"Y\"))\n",
    "\n",
    "# Buat hasil crosstab menjadi dataframe\n",
    "loan_stacked = loan_y.stack().reset_index().rename(columns={0:'value'})\n",
    "sns.barplot(x=loan_stacked.Dependents, y=loan_stacked.value, hue=loan_stacked.Loan_Status)\n",
    "plt.show()"
   ]
  },
  {
   "cell_type": "markdown",
   "metadata": {
    "id": "iamE00xm0tcY"
   },
   "source": [
    "Ternyata jumlah tanggungan tidak banyak mempengaruhi status pinjaman. Baik memiliki tanggungan dan tidak, user tetap meiliki tanggungan pinjaman.<br>\n",
    "<br>\n",
    "Bagaimana dengan status pekerjaan ?"
   ]
  },
  {
   "cell_type": "code",
   "execution_count": null,
   "metadata": {
    "colab": {
     "base_uri": "https://localhost:8080/",
     "height": 297
    },
    "executionInfo": {
     "elapsed": 6411,
     "status": "ok",
     "timestamp": 1628842041146,
     "user": {
      "displayName": "Amri Muhaimin",
      "photoUrl": "https://lh3.googleusercontent.com/a-/AOh14GigmwSQWVYPDQmlSHUTZEdOIKMibqKgirvfe2FW7w=s64",
      "userId": "06782114813934659848"
     },
     "user_tz": -420
    },
    "id": "LcLr8_Vc04in",
    "outputId": "0b06d4ea-2c0a-4ed7-c11d-edc1902786ed"
   },
   "outputs": [
    {
     "data": {
      "text/plain": [
       "<matplotlib.axes._subplots.AxesSubplot at 0x7fcfe891d610>"
      ]
     },
     "execution_count": 41,
     "metadata": {
      "tags": []
     },
     "output_type": "execute_result"
    },
    {
     "data": {
      "image/png": "[encoded data removed]",
      "text/plain": [
       "<Figure size 432x288 with 1 Axes>"
      ]
     },
     "metadata": {
      "needs_background": "light",
      "tags": []
     },
     "output_type": "display_data"
    }
   ],
   "source": [
    "# Cek status pekerjaan dan pinjaman\n",
    "employ_y = pd.crosstab(df['Self_Employed'], (df['Loan_Status'] == \"Y\"))\n",
    "\n",
    "# Buat hasil crosstab menjadi dataframe\n",
    "employ_stacked = employ_y.stack().reset_index().rename(columns={0:'value'})\n",
    "sns.barplot(x=employ_stacked.Self_Employed, y=employ_stacked.value, hue=employ_stacked.Loan_Status)"
   ]
  },
  {
   "cell_type": "markdown",
   "metadata": {
    "id": "YXJNaSg81eLw"
   },
   "source": [
    "Jika dilihat dari status pekerjaan tidak banyak pula memberikan pengaruh ke status pinjaman.\n",
    "<br>\n",
    "<br>\n",
    "Apakah ada perbedaan pendapatan applicant ?"
   ]
  },
  {
   "cell_type": "code",
   "execution_count": 12,
   "metadata": {
    "colab": {
     "base_uri": "https://localhost:8080/",
     "height": 297
    },
    "executionInfo": {
     "elapsed": 24,
     "status": "ok",
     "timestamp": 1628842042268,
     "user": {
      "displayName": "Amri Muhaimin",
      "photoUrl": "https://lh3.googleusercontent.com/a-/AOh14GigmwSQWVYPDQmlSHUTZEdOIKMibqKgirvfe2FW7w=s64",
      "userId": "06782114813934659848"
     },
     "user_tz": -420
    },
    "id": "XSKNdIip1diS",
    "outputId": "b4fe7cf4-585a-4dae-cfea-6a5ec42eba41"
   },
   "outputs": [
    {
     "data": {
      "text/plain": [
       "<AxesSubplot:xlabel='Loan_Status', ylabel='ApplicantIncome'>"
      ]
     },
     "execution_count": 12,
     "metadata": {},
     "output_type": "execute_result"
    },
    {
     "data": {
      "image/png": "[encoded data removed]",
      "text/plain": [
       "<Figure size 432x288 with 1 Axes>"
      ]
     },
     "metadata": {
      "needs_background": "light"
     },
     "output_type": "display_data"
    }
   ],
   "source": [
    "sns.boxplot(x=\"Loan_Status\", y=\"ApplicantIncome\", data=df)"
   ]
  },
  {
   "cell_type": "markdown",
   "metadata": {
    "id": "1OW9H3uupJwE"
   },
   "source": [
    "Jika dilihat dari distribusi pendapatan, tidak banyak berpengaruh juga."
   ]
  },
  {
   "cell_type": "markdown",
   "metadata": {
    "id": "wKmhVVA9qvNY"
   },
   "source": [
    "## 3 Preprocessing"
   ]
  },
  {
   "cell_type": "markdown",
   "metadata": {
    "id": "1Tcz94053eSL"
   },
   "source": [
    "### 3.1. Missing value"
   ]
  },
  {
   "cell_type": "code",
   "execution_count": null,
   "metadata": {
    "colab": {
     "base_uri": "https://localhost:8080/"
    },
    "executionInfo": {
     "elapsed": 481,
     "status": "ok",
     "timestamp": 1628842051320,
     "user": {
      "displayName": "Amri Muhaimin",
      "photoUrl": "https://lh3.googleusercontent.com/a-/AOh14GigmwSQWVYPDQmlSHUTZEdOIKMibqKgirvfe2FW7w=s64",
      "userId": "06782114813934659848"
     },
     "user_tz": -420
    },
    "id": "cUoZJcTxnHRE",
    "outputId": "266601a4-6f28-4b50-aac5-a78190e7bea0"
   },
   "outputs": [
    {
     "data": {
      "text/plain": [
       "Gender               13\n",
       "Married               3\n",
       "Dependents           15\n",
       "Education             0\n",
       "Self_Employed        32\n",
       "ApplicantIncome       0\n",
       "CoapplicantIncome     0\n",
       "LoanAmount           22\n",
       "Loan_Amount_Term     14\n",
       "Credit_History       50\n",
       "Property_Area         0\n",
       "Loan_Status           0\n",
       "dtype: int64"
      ]
     },
     "execution_count": 43,
     "metadata": {
      "tags": []
     },
     "output_type": "execute_result"
    }
   ],
   "source": [
    "# cek missing value\n",
    "df.isnull().sum()"
   ]
  },
  {
   "cell_type": "markdown",
   "metadata": {
    "id": "BSbHpYr9zKaI"
   },
   "source": [
    "Dari hasil cek missing value diketahui bahwa terdapat beberapa data yang menggandung missing value, diantaranya : Gender, Married, Dependents, Self_Employed, LoanAmount, Loan_Ammount_Term, Credit_History. Variabel-variabel diatas tidak semua dapat diisi dengan mean, median, atau mode. Tidak juga dihilangkan karena missing value tergolong banyak, dan dapat mereduksi banyak data. Oleh karena itu akan dilakukan analisis mengisi missing value."
   ]
  },
  {
   "cell_type": "code",
   "execution_count": null,
   "metadata": {
    "id": "O1f5HR7qRiqd"
   },
   "outputs": [],
   "source": [
    "# handdling missing value untuk married\n",
    "# Membuat kondisi bagi missing value dengan keadaan coapllicant tidak kosong\n",
    "married_status =((df['Married'].isnull()) & (df['CoapplicantIncome']!=0))\n",
    "\n",
    "# Jika kondisi benar married dan memiliki coapplicant maka status menikah\n",
    "df.loc[married_status, \"Married\"] = \"Yes\"\n",
    "# Jika tidak memenuhi kondisi maka belum menikah\n",
    "df.loc[df['Married'].isnull(),'Married'] = 'No'"
   ]
  },
  {
   "cell_type": "code",
   "execution_count": null,
   "metadata": {
    "id": "IGznGm54UHPN"
   },
   "outputs": [],
   "source": [
    "# Handdling missing value untuk gender\n",
    "married_male = ((df['Gender'].isnull() & (df['Married']=='Yes')) & (df['ApplicantIncome']>df['CoapplicantIncome']))\n",
    "married_female = ((df['Gender'].isnull() & (df['Married']=='Yes')) & (df['ApplicantIncome']<df['CoapplicantIncome']))\n",
    "no_married_male = ((df['Gender'].isnull() & (df['Married']=='No')) & (df['ApplicantIncome']<df['CoapplicantIncome']))\n",
    "no_married_female = ((df['Gender'].isnull() & (df['Married']=='No')) & (df['ApplicantIncome']>df['CoapplicantIncome']))\n",
    "\n",
    "\n",
    "df.loc[married_male, \"Gender\"] = \"Male\"\n",
    "df.loc[married_female, \"Gender\"] = \"Female\"\n",
    "df.loc[no_married_male, \"Gender\"] = \"Male\"\n",
    "df.loc[no_married_female, \"Gender\"] = \"Female\""
   ]
  },
  {
   "cell_type": "code",
   "execution_count": null,
   "metadata": {
    "id": "txLzpPPivayJ"
   },
   "outputs": [],
   "source": [
    "# handdling missing value untuk Deppendent\n",
    "# Membuat kondisi bagi missing value dengan keadaan tanggungan\n",
    "dependents_male = (((df['Dependents'].isnull()) & (df['Gender']==\"Male\")) & (df['Married'] == \"Yes\"))\n",
    "\n",
    "# Jika kondisi terpenuhi maka pilih modus\n",
    "a = df[(df[\"Gender\"] == \"Male\") & (df[\"Dependents\"] != \"0\")]\n",
    "a_1 = a[\"Dependents\"].value_counts().index[0]\n",
    "df.loc[dependents_male, \"Dependents\"] = a_1\n",
    "\n",
    "# Jika tidak memenuhi kondisi maka tidak memiliki tanggungan\n",
    "df.loc[df['Dependents'].isnull(),'Dependents'] = '0'"
   ]
  },
  {
   "cell_type": "code",
   "execution_count": null,
   "metadata": {
    "id": "MbAZl-kkr-cn"
   },
   "outputs": [],
   "source": [
    "# Selain itu akan diisi dengan modus dan mean untuk beberapa data seperti berikut ini\n",
    "mmodus = ['Self_Employed','Credit_History']\n",
    "mmean = ['LoanAmount','ApplicantIncome','CoapplicantIncome','Loan_Amount_Term']\n",
    "\n",
    "for feature in mmean:\n",
    "        if feature in df.columns.values:\n",
    "            df[feature] = df[feature].fillna(df[feature].mean())\n",
    "            \n",
    "for feature in mmodus:\n",
    "        if feature in df.columns.values:\n",
    "            df[feature] = df[feature].fillna(df[feature].value_counts().index[0])"
   ]
  },
  {
   "cell_type": "code",
   "execution_count": null,
   "metadata": {
    "colab": {
     "base_uri": "https://localhost:8080/"
    },
    "executionInfo": {
     "elapsed": 4,
     "status": "ok",
     "timestamp": 1628842058020,
     "user": {
      "displayName": "Amri Muhaimin",
      "photoUrl": "https://lh3.googleusercontent.com/a-/AOh14GigmwSQWVYPDQmlSHUTZEdOIKMibqKgirvfe2FW7w=s64",
      "userId": "06782114813934659848"
     },
     "user_tz": -420
    },
    "id": "cGUpJlDh4AZJ",
    "outputId": "db853165-ae04-4b0f-90a3-7c7d76c9b9ce"
   },
   "outputs": [
    {
     "data": {
      "text/plain": [
       "Gender               0\n",
       "Married              0\n",
       "Dependents           0\n",
       "Education            0\n",
       "Self_Employed        0\n",
       "ApplicantIncome      0\n",
       "CoapplicantIncome    0\n",
       "LoanAmount           0\n",
       "Loan_Amount_Term     0\n",
       "Credit_History       0\n",
       "Property_Area        0\n",
       "Loan_Status          0\n",
       "dtype: int64"
      ]
     },
     "execution_count": 48,
     "metadata": {
      "tags": []
     },
     "output_type": "execute_result"
    }
   ],
   "source": [
    "# Cek kembali missing value\n",
    "df.isnull().sum()"
   ]
  },
  {
   "cell_type": "markdown",
   "metadata": {
    "id": "WNxXLV__qiiD"
   },
   "source": [
    "3.2 Label Encoder"
   ]
  },
  {
   "cell_type": "code",
   "execution_count": null,
   "metadata": {
    "colab": {
     "base_uri": "https://localhost:8080/",
     "height": 237
    },
    "executionInfo": {
     "elapsed": 101,
     "status": "ok",
     "timestamp": 1628842060812,
     "user": {
      "displayName": "Amri Muhaimin",
      "photoUrl": "https://lh3.googleusercontent.com/a-/AOh14GigmwSQWVYPDQmlSHUTZEdOIKMibqKgirvfe2FW7w=s64",
      "userId": "06782114813934659848"
     },
     "user_tz": -420
    },
    "id": "csYZR4JS48c5",
    "outputId": "0d6e1b89-f6b2-41e9-c6f9-7d08b5c2cf57"
   },
   "outputs": [
    {
     "data": {
      "text/html": [
       "<div>\n",
       "<style scoped>\n",
       "    .dataframe tbody tr th:only-of-type {\n",
       "        vertical-align: middle;\n",
       "    }\n",
       "\n",
       "    .dataframe tbody tr th {\n",
       "        vertical-align: top;\n",
       "    }\n",
       "\n",
       "    .dataframe thead th {\n",
       "        text-align: right;\n",
       "    }\n",
       "</style>\n",
       "<table border=\"1\" class=\"dataframe\">\n",
       "  <thead>\n",
       "    <tr style=\"text-align: right;\">\n",
       "      <th></th>\n",
       "      <th>Gender</th>\n",
       "      <th>Married</th>\n",
       "      <th>Education</th>\n",
       "      <th>Self_Employed</th>\n",
       "      <th>Dependents</th>\n",
       "      <th>Credit_History</th>\n",
       "      <th>Property_Area</th>\n",
       "      <th>Loan_Status</th>\n",
       "    </tr>\n",
       "    <tr>\n",
       "      <th>Loan_ID</th>\n",
       "      <th></th>\n",
       "      <th></th>\n",
       "      <th></th>\n",
       "      <th></th>\n",
       "      <th></th>\n",
       "      <th></th>\n",
       "      <th></th>\n",
       "      <th></th>\n",
       "    </tr>\n",
       "  </thead>\n",
       "  <tbody>\n",
       "    <tr>\n",
       "      <th>LP001002</th>\n",
       "      <td>Male</td>\n",
       "      <td>No</td>\n",
       "      <td>Graduate</td>\n",
       "      <td>No</td>\n",
       "      <td>0</td>\n",
       "      <td>1.0</td>\n",
       "      <td>Urban</td>\n",
       "      <td>Y</td>\n",
       "    </tr>\n",
       "    <tr>\n",
       "      <th>LP001003</th>\n",
       "      <td>Male</td>\n",
       "      <td>Yes</td>\n",
       "      <td>Graduate</td>\n",
       "      <td>No</td>\n",
       "      <td>1</td>\n",
       "      <td>1.0</td>\n",
       "      <td>Rural</td>\n",
       "      <td>N</td>\n",
       "    </tr>\n",
       "    <tr>\n",
       "      <th>LP001005</th>\n",
       "      <td>Male</td>\n",
       "      <td>Yes</td>\n",
       "      <td>Graduate</td>\n",
       "      <td>Yes</td>\n",
       "      <td>0</td>\n",
       "      <td>1.0</td>\n",
       "      <td>Urban</td>\n",
       "      <td>Y</td>\n",
       "    </tr>\n",
       "    <tr>\n",
       "      <th>LP001006</th>\n",
       "      <td>Male</td>\n",
       "      <td>Yes</td>\n",
       "      <td>Not Graduate</td>\n",
       "      <td>No</td>\n",
       "      <td>0</td>\n",
       "      <td>1.0</td>\n",
       "      <td>Urban</td>\n",
       "      <td>Y</td>\n",
       "    </tr>\n",
       "    <tr>\n",
       "      <th>LP001008</th>\n",
       "      <td>Male</td>\n",
       "      <td>No</td>\n",
       "      <td>Graduate</td>\n",
       "      <td>No</td>\n",
       "      <td>0</td>\n",
       "      <td>1.0</td>\n",
       "      <td>Urban</td>\n",
       "      <td>Y</td>\n",
       "    </tr>\n",
       "  </tbody>\n",
       "</table>\n",
       "</div>"
      ],
      "text/plain": [
       "         Gender Married     Education  ... Credit_History Property_Area  Loan_Status\n",
       "Loan_ID                                ...                                          \n",
       "LP001002   Male      No      Graduate  ...            1.0         Urban            Y\n",
       "LP001003   Male     Yes      Graduate  ...            1.0         Rural            N\n",
       "LP001005   Male     Yes      Graduate  ...            1.0         Urban            Y\n",
       "LP001006   Male     Yes  Not Graduate  ...            1.0         Urban            Y\n",
       "LP001008   Male      No      Graduate  ...            1.0         Urban            Y\n",
       "\n",
       "[5 rows x 8 columns]"
      ]
     },
     "execution_count": 49,
     "metadata": {
      "tags": []
     },
     "output_type": "execute_result"
    }
   ],
   "source": [
    "kategori = ['Gender','Married','Education','Self_Employed','Dependents','Credit_History', 'Property_Area','Loan_Status']\n",
    "df_cat = df[kategori]\n",
    "df_cat.head()"
   ]
  },
  {
   "cell_type": "code",
   "execution_count": null,
   "metadata": {
    "colab": {
     "base_uri": "https://localhost:8080/",
     "height": 257
    },
    "executionInfo": {
     "elapsed": 91,
     "status": "ok",
     "timestamp": 1628842060814,
     "user": {
      "displayName": "Amri Muhaimin",
      "photoUrl": "https://lh3.googleusercontent.com/a-/AOh14GigmwSQWVYPDQmlSHUTZEdOIKMibqKgirvfe2FW7w=s64",
      "userId": "06782114813934659848"
     },
     "user_tz": -420
    },
    "id": "D19-Zz48yMdg",
    "outputId": "481f6352-57e5-4357-aadc-9df39485260c"
   },
   "outputs": [
    {
     "data": {
      "text/html": [
       "<div>\n",
       "<style scoped>\n",
       "    .dataframe tbody tr th:only-of-type {\n",
       "        vertical-align: middle;\n",
       "    }\n",
       "\n",
       "    .dataframe tbody tr th {\n",
       "        vertical-align: top;\n",
       "    }\n",
       "\n",
       "    .dataframe thead th {\n",
       "        text-align: right;\n",
       "    }\n",
       "</style>\n",
       "<table border=\"1\" class=\"dataframe\">\n",
       "  <thead>\n",
       "    <tr style=\"text-align: right;\">\n",
       "      <th></th>\n",
       "      <th>Gender</th>\n",
       "      <th>Married</th>\n",
       "      <th>Dependents</th>\n",
       "      <th>Education</th>\n",
       "      <th>Self_Employed</th>\n",
       "      <th>ApplicantIncome</th>\n",
       "      <th>CoapplicantIncome</th>\n",
       "      <th>LoanAmount</th>\n",
       "      <th>Loan_Amount_Term</th>\n",
       "      <th>Credit_History</th>\n",
       "      <th>Property_Area</th>\n",
       "      <th>Loan_Status</th>\n",
       "    </tr>\n",
       "    <tr>\n",
       "      <th>Loan_ID</th>\n",
       "      <th></th>\n",
       "      <th></th>\n",
       "      <th></th>\n",
       "      <th></th>\n",
       "      <th></th>\n",
       "      <th></th>\n",
       "      <th></th>\n",
       "      <th></th>\n",
       "      <th></th>\n",
       "      <th></th>\n",
       "      <th></th>\n",
       "      <th></th>\n",
       "    </tr>\n",
       "  </thead>\n",
       "  <tbody>\n",
       "    <tr>\n",
       "      <th>LP001002</th>\n",
       "      <td>1</td>\n",
       "      <td>0</td>\n",
       "      <td>0</td>\n",
       "      <td>0</td>\n",
       "      <td>0</td>\n",
       "      <td>5849</td>\n",
       "      <td>0.0</td>\n",
       "      <td>146.412162</td>\n",
       "      <td>360.0</td>\n",
       "      <td>1</td>\n",
       "      <td>2</td>\n",
       "      <td>1</td>\n",
       "    </tr>\n",
       "    <tr>\n",
       "      <th>LP001003</th>\n",
       "      <td>1</td>\n",
       "      <td>1</td>\n",
       "      <td>1</td>\n",
       "      <td>0</td>\n",
       "      <td>0</td>\n",
       "      <td>4583</td>\n",
       "      <td>1508.0</td>\n",
       "      <td>128.000000</td>\n",
       "      <td>360.0</td>\n",
       "      <td>1</td>\n",
       "      <td>0</td>\n",
       "      <td>0</td>\n",
       "    </tr>\n",
       "    <tr>\n",
       "      <th>LP001005</th>\n",
       "      <td>1</td>\n",
       "      <td>1</td>\n",
       "      <td>0</td>\n",
       "      <td>0</td>\n",
       "      <td>1</td>\n",
       "      <td>3000</td>\n",
       "      <td>0.0</td>\n",
       "      <td>66.000000</td>\n",
       "      <td>360.0</td>\n",
       "      <td>1</td>\n",
       "      <td>2</td>\n",
       "      <td>1</td>\n",
       "    </tr>\n",
       "    <tr>\n",
       "      <th>LP001006</th>\n",
       "      <td>1</td>\n",
       "      <td>1</td>\n",
       "      <td>0</td>\n",
       "      <td>1</td>\n",
       "      <td>0</td>\n",
       "      <td>2583</td>\n",
       "      <td>2358.0</td>\n",
       "      <td>120.000000</td>\n",
       "      <td>360.0</td>\n",
       "      <td>1</td>\n",
       "      <td>2</td>\n",
       "      <td>1</td>\n",
       "    </tr>\n",
       "    <tr>\n",
       "      <th>LP001008</th>\n",
       "      <td>1</td>\n",
       "      <td>0</td>\n",
       "      <td>0</td>\n",
       "      <td>0</td>\n",
       "      <td>0</td>\n",
       "      <td>6000</td>\n",
       "      <td>0.0</td>\n",
       "      <td>141.000000</td>\n",
       "      <td>360.0</td>\n",
       "      <td>1</td>\n",
       "      <td>2</td>\n",
       "      <td>1</td>\n",
       "    </tr>\n",
       "  </tbody>\n",
       "</table>\n",
       "</div>"
      ],
      "text/plain": [
       "          Gender  Married  ...  Property_Area  Loan_Status\n",
       "Loan_ID                    ...                            \n",
       "LP001002       1        0  ...              2            1\n",
       "LP001003       1        1  ...              0            0\n",
       "LP001005       1        1  ...              2            1\n",
       "LP001006       1        1  ...              2            1\n",
       "LP001008       1        0  ...              2            1\n",
       "\n",
       "[5 rows x 12 columns]"
      ]
     },
     "execution_count": 50,
     "metadata": {
      "tags": []
     },
     "output_type": "execute_result"
    }
   ],
   "source": [
    "# Ubah kedalam bentuk numerik\n",
    "encoded_data = LabelEncoder()\n",
    "\n",
    "for feature in kategori:\n",
    "        if feature in df.columns.values:\n",
    "            df[feature] = encoded_data.fit_transform(df[feature])\n",
    "\n",
    "df.head()"
   ]
  },
  {
   "cell_type": "markdown",
   "metadata": {
    "id": "8tgNIxiGq47m"
   },
   "source": [
    "### 3.3. Cek Korelasi"
   ]
  },
  {
   "cell_type": "code",
   "execution_count": null,
   "metadata": {
    "colab": {
     "base_uri": "https://localhost:8080/",
     "height": 563
    },
    "executionInfo": {
     "elapsed": 1976,
     "status": "ok",
     "timestamp": 1628842064311,
     "user": {
      "displayName": "Amri Muhaimin",
      "photoUrl": "https://lh3.googleusercontent.com/a-/AOh14GigmwSQWVYPDQmlSHUTZEdOIKMibqKgirvfe2FW7w=s64",
      "userId": "06782114813934659848"
     },
     "user_tz": -420
    },
    "id": "jtpQn5zZ5SCm",
    "outputId": "3f7a9fd2-4053-41e1-c00e-fcd403bd39db"
   },
   "outputs": [
    {
     "data": {
      "image/png": "[encoded data removed]",
      "text/plain": [
       "<Figure size 1080x576 with 2 Axes>"
      ]
     },
     "metadata": {
      "needs_background": "light",
      "tags": []
     },
     "output_type": "display_data"
    }
   ],
   "source": [
    "# Melakukan perhitungan nilai korelasi dengan mengasumsikan data adalah data interval.\n",
    "sns.heatmap(df.corr(),linewidths=.5,annot=True,cmap='RdYlGn')\n",
    "fig=plt.gcf()\n",
    "fig.set_size_inches(15,8)\n",
    "plt.show()"
   ]
  },
  {
   "cell_type": "code",
   "execution_count": null,
   "metadata": {
    "colab": {
     "base_uri": "https://localhost:8080/"
    },
    "executionInfo": {
     "elapsed": 42,
     "status": "ok",
     "timestamp": 1628842064313,
     "user": {
      "displayName": "Amri Muhaimin",
      "photoUrl": "https://lh3.googleusercontent.com/a-/AOh14GigmwSQWVYPDQmlSHUTZEdOIKMibqKgirvfe2FW7w=s64",
      "userId": "06782114813934659848"
     },
     "user_tz": -420
    },
    "id": "lk8lVufA53R4",
    "outputId": "8afb53ea-7265-43be-fc53-27fb7467e104"
   },
   "outputs": [
    {
     "data": {
      "text/plain": [
       "Education           -0.085884\n",
       "CoapplicantIncome   -0.059187\n",
       "LoanAmount          -0.036416\n",
       "Loan_Amount_Term    -0.020974\n",
       "ApplicantIncome     -0.004710\n",
       "Self_Employed       -0.003700\n",
       "Dependents           0.010118\n",
       "Gender               0.012646\n",
       "Property_Area        0.032112\n",
       "Married              0.086673\n",
       "Credit_History       0.540556\n",
       "Loan_Status          1.000000\n",
       "Name: Loan_Status, dtype: float64"
      ]
     },
     "execution_count": 52,
     "metadata": {
      "tags": []
     },
     "output_type": "execute_result"
    }
   ],
   "source": [
    "# Cek Urutan korelasi terendah ke tertinggi\n",
    "korelasi = df.corr()[\"Loan_Status\"].sort_values()\n",
    "korelasi"
   ]
  },
  {
   "cell_type": "markdown",
   "metadata": {
    "id": "JgFOb83QrEsO"
   },
   "source": [
    "## 4. Feature Engineering"
   ]
  },
  {
   "cell_type": "markdown",
   "metadata": {
    "id": "ImcR0qffzedv"
   },
   "source": [
    "## 4. Feature Engineering\n",
    "\n",
    "Dalam proses Feature Engineering, untuk case ini akan ditambahkan feature/variabel baru diantaranya:\n",
    "TotalIncome : Total income didapat dengan menjumlahkan income antara applicant dan co-applicant. Jumlah pendapatan nasabah yang mengajukan pinjaman.<br>\n",
    "Loan/Income : Rasio antara hutang dan pendapatan. Feature/variabel ini digunakan untuk mencari tahu persentase hutang yang dimiliki, balanced atau tidak dengan total pendapatan. Semakin kecil rasionya maka semakin kecil resiko yang dimiliki.<br>\n",
    "Loan/Term : Rasio antara pinjaman dan jangka waktu pembayaran. Besarnya pendapatan yang dibayarkan nasabah dalam kurun waktu tertentu. <br>\n",
    "RepaymentRatio : Metrik keuangan yang menunjukkan proporsi pendapatan yang dibayarkan nasabah yang dinyatakan sebagai persentase dari total pendapatannya."
   ]
  },
  {
   "cell_type": "code",
   "execution_count": null,
   "metadata": {
    "id": "NJqferZ56Vr2"
   },
   "outputs": [],
   "source": [
    "# Menambahkan variabel baru dari beberapa variabel yang sudah ada\n",
    "df['TotalIncome']=df['ApplicantIncome']+df['CoapplicantIncome']\n",
    "df['Loan/Income']=df['LoanAmount']/df['TotalIncome']\n",
    "df['Loan/Term']=df['LoanAmount']/df['Loan_Amount_Term']\n",
    "df['RepaymentRatio']=(df['Loan/Term']*1000)/df['TotalIncome']"
   ]
  },
  {
   "cell_type": "code",
   "execution_count": null,
   "metadata": {
    "colab": {
     "base_uri": "https://localhost:8080/",
     "height": 257
    },
    "executionInfo": {
     "elapsed": 84,
     "status": "ok",
     "timestamp": 1628842070675,
     "user": {
      "displayName": "Amri Muhaimin",
      "photoUrl": "https://lh3.googleusercontent.com/a-/AOh14GigmwSQWVYPDQmlSHUTZEdOIKMibqKgirvfe2FW7w=s64",
      "userId": "06782114813934659848"
     },
     "user_tz": -420
    },
    "id": "GkU2bOrfrQHn",
    "outputId": "bf7b67fd-95fb-4a4f-ae7a-9e6b085ffe65"
   },
   "outputs": [
    {
     "data": {
      "text/html": [
       "<div>\n",
       "<style scoped>\n",
       "    .dataframe tbody tr th:only-of-type {\n",
       "        vertical-align: middle;\n",
       "    }\n",
       "\n",
       "    .dataframe tbody tr th {\n",
       "        vertical-align: top;\n",
       "    }\n",
       "\n",
       "    .dataframe thead th {\n",
       "        text-align: right;\n",
       "    }\n",
       "</style>\n",
       "<table border=\"1\" class=\"dataframe\">\n",
       "  <thead>\n",
       "    <tr style=\"text-align: right;\">\n",
       "      <th></th>\n",
       "      <th>Gender</th>\n",
       "      <th>Married</th>\n",
       "      <th>Dependents</th>\n",
       "      <th>Education</th>\n",
       "      <th>Self_Employed</th>\n",
       "      <th>ApplicantIncome</th>\n",
       "      <th>CoapplicantIncome</th>\n",
       "      <th>LoanAmount</th>\n",
       "      <th>Loan_Amount_Term</th>\n",
       "      <th>Credit_History</th>\n",
       "      <th>Property_Area</th>\n",
       "      <th>Loan_Status</th>\n",
       "      <th>TotalIncome</th>\n",
       "      <th>Loan/Income</th>\n",
       "      <th>Loan/Term</th>\n",
       "      <th>RepaymentRatio</th>\n",
       "    </tr>\n",
       "    <tr>\n",
       "      <th>Loan_ID</th>\n",
       "      <th></th>\n",
       "      <th></th>\n",
       "      <th></th>\n",
       "      <th></th>\n",
       "      <th></th>\n",
       "      <th></th>\n",
       "      <th></th>\n",
       "      <th></th>\n",
       "      <th></th>\n",
       "      <th></th>\n",
       "      <th></th>\n",
       "      <th></th>\n",
       "      <th></th>\n",
       "      <th></th>\n",
       "      <th></th>\n",
       "      <th></th>\n",
       "    </tr>\n",
       "  </thead>\n",
       "  <tbody>\n",
       "    <tr>\n",
       "      <th>LP001002</th>\n",
       "      <td>1</td>\n",
       "      <td>0</td>\n",
       "      <td>0</td>\n",
       "      <td>0</td>\n",
       "      <td>0</td>\n",
       "      <td>5849</td>\n",
       "      <td>0.0</td>\n",
       "      <td>146.412162</td>\n",
       "      <td>360.0</td>\n",
       "      <td>1</td>\n",
       "      <td>2</td>\n",
       "      <td>1</td>\n",
       "      <td>5849.0</td>\n",
       "      <td>0.025032</td>\n",
       "      <td>0.406700</td>\n",
       "      <td>0.069533</td>\n",
       "    </tr>\n",
       "    <tr>\n",
       "      <th>LP001003</th>\n",
       "      <td>1</td>\n",
       "      <td>1</td>\n",
       "      <td>1</td>\n",
       "      <td>0</td>\n",
       "      <td>0</td>\n",
       "      <td>4583</td>\n",
       "      <td>1508.0</td>\n",
       "      <td>128.000000</td>\n",
       "      <td>360.0</td>\n",
       "      <td>1</td>\n",
       "      <td>0</td>\n",
       "      <td>0</td>\n",
       "      <td>6091.0</td>\n",
       "      <td>0.021015</td>\n",
       "      <td>0.355556</td>\n",
       "      <td>0.058374</td>\n",
       "    </tr>\n",
       "    <tr>\n",
       "      <th>LP001005</th>\n",
       "      <td>1</td>\n",
       "      <td>1</td>\n",
       "      <td>0</td>\n",
       "      <td>0</td>\n",
       "      <td>1</td>\n",
       "      <td>3000</td>\n",
       "      <td>0.0</td>\n",
       "      <td>66.000000</td>\n",
       "      <td>360.0</td>\n",
       "      <td>1</td>\n",
       "      <td>2</td>\n",
       "      <td>1</td>\n",
       "      <td>3000.0</td>\n",
       "      <td>0.022000</td>\n",
       "      <td>0.183333</td>\n",
       "      <td>0.061111</td>\n",
       "    </tr>\n",
       "    <tr>\n",
       "      <th>LP001006</th>\n",
       "      <td>1</td>\n",
       "      <td>1</td>\n",
       "      <td>0</td>\n",
       "      <td>1</td>\n",
       "      <td>0</td>\n",
       "      <td>2583</td>\n",
       "      <td>2358.0</td>\n",
       "      <td>120.000000</td>\n",
       "      <td>360.0</td>\n",
       "      <td>1</td>\n",
       "      <td>2</td>\n",
       "      <td>1</td>\n",
       "      <td>4941.0</td>\n",
       "      <td>0.024287</td>\n",
       "      <td>0.333333</td>\n",
       "      <td>0.067463</td>\n",
       "    </tr>\n",
       "    <tr>\n",
       "      <th>LP001008</th>\n",
       "      <td>1</td>\n",
       "      <td>0</td>\n",
       "      <td>0</td>\n",
       "      <td>0</td>\n",
       "      <td>0</td>\n",
       "      <td>6000</td>\n",
       "      <td>0.0</td>\n",
       "      <td>141.000000</td>\n",
       "      <td>360.0</td>\n",
       "      <td>1</td>\n",
       "      <td>2</td>\n",
       "      <td>1</td>\n",
       "      <td>6000.0</td>\n",
       "      <td>0.023500</td>\n",
       "      <td>0.391667</td>\n",
       "      <td>0.065278</td>\n",
       "    </tr>\n",
       "  </tbody>\n",
       "</table>\n",
       "</div>"
      ],
      "text/plain": [
       "          Gender  Married  Dependents  ...  Loan/Income  Loan/Term  RepaymentRatio\n",
       "Loan_ID                                ...                                        \n",
       "LP001002       1        0           0  ...     0.025032   0.406700        0.069533\n",
       "LP001003       1        1           1  ...     0.021015   0.355556        0.058374\n",
       "LP001005       1        1           0  ...     0.022000   0.183333        0.061111\n",
       "LP001006       1        1           0  ...     0.024287   0.333333        0.067463\n",
       "LP001008       1        0           0  ...     0.023500   0.391667        0.065278\n",
       "\n",
       "[5 rows x 16 columns]"
      ]
     },
     "execution_count": 54,
     "metadata": {
      "tags": []
     },
     "output_type": "execute_result"
    }
   ],
   "source": [
    "df.head()"
   ]
  },
  {
   "cell_type": "markdown",
   "metadata": {
    "id": "TiPC0zQ2rWSX"
   },
   "source": [
    "SCALING\n",
    "<br>\n",
    "Scaling dibutuhkan karena terdapat perbedaan range nilai yang tinggi diantara beberapa variabel."
   ]
  },
  {
   "cell_type": "code",
   "execution_count": null,
   "metadata": {
    "colab": {
     "base_uri": "https://localhost:8080/",
     "height": 257
    },
    "executionInfo": {
     "elapsed": 52,
     "status": "ok",
     "timestamp": 1628842073133,
     "user": {
      "displayName": "Amri Muhaimin",
      "photoUrl": "https://lh3.googleusercontent.com/a-/AOh14GigmwSQWVYPDQmlSHUTZEdOIKMibqKgirvfe2FW7w=s64",
      "userId": "06782114813934659848"
     },
     "user_tz": -420
    },
    "id": "riNKzzmYrhR8",
    "outputId": "8f169bd4-0d92-4e85-f665-93ecfbd2d164"
   },
   "outputs": [
    {
     "data": {
      "text/html": [
       "<div>\n",
       "<style scoped>\n",
       "    .dataframe tbody tr th:only-of-type {\n",
       "        vertical-align: middle;\n",
       "    }\n",
       "\n",
       "    .dataframe tbody tr th {\n",
       "        vertical-align: top;\n",
       "    }\n",
       "\n",
       "    .dataframe thead th {\n",
       "        text-align: right;\n",
       "    }\n",
       "</style>\n",
       "<table border=\"1\" class=\"dataframe\">\n",
       "  <thead>\n",
       "    <tr style=\"text-align: right;\">\n",
       "      <th></th>\n",
       "      <th>Gender</th>\n",
       "      <th>Married</th>\n",
       "      <th>Dependents</th>\n",
       "      <th>Education</th>\n",
       "      <th>Self_Employed</th>\n",
       "      <th>ApplicantIncome</th>\n",
       "      <th>CoapplicantIncome</th>\n",
       "      <th>LoanAmount</th>\n",
       "      <th>Loan_Amount_Term</th>\n",
       "      <th>Credit_History</th>\n",
       "      <th>Property_Area</th>\n",
       "      <th>Loan_Status</th>\n",
       "      <th>TotalIncome</th>\n",
       "      <th>Loan/Income</th>\n",
       "      <th>Loan/Term</th>\n",
       "      <th>RepaymentRatio</th>\n",
       "    </tr>\n",
       "    <tr>\n",
       "      <th>Loan_ID</th>\n",
       "      <th></th>\n",
       "      <th></th>\n",
       "      <th></th>\n",
       "      <th></th>\n",
       "      <th></th>\n",
       "      <th></th>\n",
       "      <th></th>\n",
       "      <th></th>\n",
       "      <th></th>\n",
       "      <th></th>\n",
       "      <th></th>\n",
       "      <th></th>\n",
       "      <th></th>\n",
       "      <th></th>\n",
       "      <th></th>\n",
       "      <th></th>\n",
       "    </tr>\n",
       "  </thead>\n",
       "  <tbody>\n",
       "    <tr>\n",
       "      <th>LP001002</th>\n",
       "      <td>1</td>\n",
       "      <td>0</td>\n",
       "      <td>0</td>\n",
       "      <td>0</td>\n",
       "      <td>0</td>\n",
       "      <td>0.070489</td>\n",
       "      <td>0.000000</td>\n",
       "      <td>0.198860</td>\n",
       "      <td>0.74359</td>\n",
       "      <td>1</td>\n",
       "      <td>2</td>\n",
       "      <td>1</td>\n",
       "      <td>0.055394</td>\n",
       "      <td>0.025032</td>\n",
       "      <td>0.406700</td>\n",
       "      <td>0.069533</td>\n",
       "    </tr>\n",
       "    <tr>\n",
       "      <th>LP001003</th>\n",
       "      <td>1</td>\n",
       "      <td>1</td>\n",
       "      <td>1</td>\n",
       "      <td>0</td>\n",
       "      <td>0</td>\n",
       "      <td>0.054830</td>\n",
       "      <td>0.036192</td>\n",
       "      <td>0.172214</td>\n",
       "      <td>0.74359</td>\n",
       "      <td>1</td>\n",
       "      <td>0</td>\n",
       "      <td>0</td>\n",
       "      <td>0.058435</td>\n",
       "      <td>0.021015</td>\n",
       "      <td>0.355556</td>\n",
       "      <td>0.058374</td>\n",
       "    </tr>\n",
       "    <tr>\n",
       "      <th>LP001005</th>\n",
       "      <td>1</td>\n",
       "      <td>1</td>\n",
       "      <td>0</td>\n",
       "      <td>0</td>\n",
       "      <td>1</td>\n",
       "      <td>0.035250</td>\n",
       "      <td>0.000000</td>\n",
       "      <td>0.082489</td>\n",
       "      <td>0.74359</td>\n",
       "      <td>1</td>\n",
       "      <td>2</td>\n",
       "      <td>1</td>\n",
       "      <td>0.019583</td>\n",
       "      <td>0.022000</td>\n",
       "      <td>0.183333</td>\n",
       "      <td>0.061111</td>\n",
       "    </tr>\n",
       "    <tr>\n",
       "      <th>LP001006</th>\n",
       "      <td>1</td>\n",
       "      <td>1</td>\n",
       "      <td>0</td>\n",
       "      <td>1</td>\n",
       "      <td>0</td>\n",
       "      <td>0.030093</td>\n",
       "      <td>0.056592</td>\n",
       "      <td>0.160637</td>\n",
       "      <td>0.74359</td>\n",
       "      <td>1</td>\n",
       "      <td>2</td>\n",
       "      <td>1</td>\n",
       "      <td>0.043980</td>\n",
       "      <td>0.024287</td>\n",
       "      <td>0.333333</td>\n",
       "      <td>0.067463</td>\n",
       "    </tr>\n",
       "    <tr>\n",
       "      <th>LP001008</th>\n",
       "      <td>1</td>\n",
       "      <td>0</td>\n",
       "      <td>0</td>\n",
       "      <td>0</td>\n",
       "      <td>0</td>\n",
       "      <td>0.072356</td>\n",
       "      <td>0.000000</td>\n",
       "      <td>0.191027</td>\n",
       "      <td>0.74359</td>\n",
       "      <td>1</td>\n",
       "      <td>2</td>\n",
       "      <td>1</td>\n",
       "      <td>0.057292</td>\n",
       "      <td>0.023500</td>\n",
       "      <td>0.391667</td>\n",
       "      <td>0.065278</td>\n",
       "    </tr>\n",
       "  </tbody>\n",
       "</table>\n",
       "</div>"
      ],
      "text/plain": [
       "          Gender  Married  Dependents  ...  Loan/Income  Loan/Term  RepaymentRatio\n",
       "Loan_ID                                ...                                        \n",
       "LP001002       1        0           0  ...     0.025032   0.406700        0.069533\n",
       "LP001003       1        1           1  ...     0.021015   0.355556        0.058374\n",
       "LP001005       1        1           0  ...     0.022000   0.183333        0.061111\n",
       "LP001006       1        1           0  ...     0.024287   0.333333        0.067463\n",
       "LP001008       1        0           0  ...     0.023500   0.391667        0.065278\n",
       "\n",
       "[5 rows x 16 columns]"
      ]
     },
     "execution_count": 55,
     "metadata": {
      "tags": []
     },
     "output_type": "execute_result"
    }
   ],
   "source": [
    "transformation_svm = MinMaxScaler().fit(df[['ApplicantIncome','CoapplicantIncome','LoanAmount','TotalIncome','Loan_Amount_Term']])\n",
    "df[['ApplicantIncome','CoapplicantIncome','LoanAmount','TotalIncome','Loan_Amount_Term']]=transformation_svm.transform(df[['ApplicantIncome','CoapplicantIncome','LoanAmount', 'TotalIncome','Loan_Amount_Term']])\n",
    " \n",
    "df.head()"
   ]
  },
  {
   "cell_type": "markdown",
   "metadata": {
    "id": "l_FYtPZGr3AU"
   },
   "source": [
    "## 5. Membangun Model Klasifikasi"
   ]
  },
  {
   "cell_type": "markdown",
   "metadata": {
    "id": "IECGo26Xr82p"
   },
   "source": [
    "MEMBAGI TRAIN TEST DATA"
   ]
  },
  {
   "cell_type": "code",
   "execution_count": null,
   "metadata": {
    "colab": {
     "base_uri": "https://localhost:8080/"
    },
    "executionInfo": {
     "elapsed": 22,
     "status": "ok",
     "timestamp": 1628842075015,
     "user": {
      "displayName": "Amri Muhaimin",
      "photoUrl": "https://lh3.googleusercontent.com/a-/AOh14GigmwSQWVYPDQmlSHUTZEdOIKMibqKgirvfe2FW7w=s64",
      "userId": "06782114813934659848"
     },
     "user_tz": -420
    },
    "id": "8JIggWLl6j-D",
    "outputId": "40487a74-debe-4233-892e-662c3e865da7"
   },
   "outputs": [
    {
     "name": "stdout",
     "output_type": "stream",
     "text": [
      "X Train :  429\n",
      "y Train :  429\n",
      "X Test :  185\n",
      "t Test :  185\n"
     ]
    }
   ],
   "source": [
    "X = df.drop('Loan_Status', axis=1)\n",
    "y = df['Loan_Status']\n",
    "\n",
    "X_train, X_test, y_train, y_test = train_test_split(X, y, test_size=0.3, random_state=42)\n",
    "\n",
    "print(\"X Train : \", len(X_train))\n",
    "print(\"y Train : \", len(y_train))\n",
    "print(\"X Test : \", len(X_test))\n",
    "print(\"t Test : \", len(y_test))"
   ]
  },
  {
   "cell_type": "markdown",
   "metadata": {
    "id": "YZ9HNQf_Ge_x"
   },
   "source": [
    "### Stats Model (Logistic Regression)"
   ]
  },
  {
   "cell_type": "code",
   "execution_count": null,
   "metadata": {
    "id": "FxWIxUiYMqUn"
   },
   "outputs": [],
   "source": [
    "Input = sm.add_constant(X_train)"
   ]
  },
  {
   "cell_type": "code",
   "execution_count": null,
   "metadata": {
    "colab": {
     "base_uri": "https://localhost:8080/"
    },
    "executionInfo": {
     "elapsed": 9,
     "status": "ok",
     "timestamp": 1628842077178,
     "user": {
      "displayName": "Amri Muhaimin",
      "photoUrl": "https://lh3.googleusercontent.com/a-/AOh14GigmwSQWVYPDQmlSHUTZEdOIKMibqKgirvfe2FW7w=s64",
      "userId": "06782114813934659848"
     },
     "user_tz": -420
    },
    "id": "2FOuIOGf62u-",
    "outputId": "20488ab4-de14-4481-c5ea-ed04aaa308b6"
   },
   "outputs": [
    {
     "name": "stdout",
     "output_type": "stream",
     "text": [
      "Optimization terminated successfully.\n",
      "         Current function value: 0.440113\n",
      "         Iterations 8\n",
      "                           Results: Logit\n",
      "=====================================================================\n",
      "Model:                Logit             Pseudo R-squared:  0.275     \n",
      "Dependent Variable:   Loan_Status       AIC:               407.6169  \n",
      "Date:                 2021-08-13 08:07  BIC:               468.5387  \n",
      "No. Observations:     429               Log-Likelihood:    -188.81   \n",
      "Df Model:             14                LL-Null:           -260.60   \n",
      "Df Residuals:         414               LLR p-value:       1.3678e-23\n",
      "Converged:            1.0000            Scale:             1.0000    \n",
      "No. Iterations:       8.0000                                         \n",
      "---------------------------------------------------------------------\n",
      "                   Coef.   Std.Err.    z    P>|z|    [0.025   0.975] \n",
      "---------------------------------------------------------------------\n",
      "Gender             -0.4758   0.3611 -1.3179 0.1875   -1.1835   0.2318\n",
      "Married             0.4958   0.2967  1.6709 0.0947   -0.0858   1.0774\n",
      "Dependents          0.2045   0.1497  1.3662 0.1719   -0.0889   0.4980\n",
      "Education          -0.2237   0.3213 -0.6963 0.4862   -0.8535   0.4060\n",
      "Self_Employed      -0.0493   0.3912 -0.1259 0.8998   -0.8160   0.7175\n",
      "ApplicantIncome   -75.0892  74.3774 -1.0096 0.3127 -220.8663  70.6878\n",
      "CoapplicantIncome -38.9349  38.3568 -1.0151 0.3101 -114.1129  36.2430\n",
      "LoanAmount         -1.5158   3.0345 -0.4995 0.6174   -7.4632   4.4316\n",
      "Loan_Amount_Term   -0.1625   1.3141 -0.1237 0.9016   -2.7381   2.4131\n",
      "Credit_History      3.9181   0.4952  7.9121 0.0000    2.9475   4.8887\n",
      "Property_Area       0.0522   0.1686  0.3095 0.7569   -0.2783   0.3827\n",
      "TotalIncome        67.9651  73.8080  0.9208 0.3571  -76.6959 212.6260\n",
      "Loan/Income       -13.0461  33.8108 -0.3859 0.6996  -79.3141  53.2219\n",
      "Loan/Term           1.6284   1.3571  1.1999 0.2302   -1.0315   4.2883\n",
      "RepaymentRatio    -12.0338   9.9184 -1.2133 0.2250  -31.4735   7.4060\n",
      "=====================================================================\n",
      "\n"
     ]
    }
   ],
   "source": [
    "model = sm.Logit(y_train, X_train, missing='drop')\n",
    "result = model.fit()\n",
    "print(result.summary2())"
   ]
  },
  {
   "cell_type": "code",
   "execution_count": null,
   "metadata": {
    "colab": {
     "base_uri": "https://localhost:8080/"
    },
    "executionInfo": {
     "elapsed": 37,
     "status": "ok",
     "timestamp": 1628842077884,
     "user": {
      "displayName": "Amri Muhaimin",
      "photoUrl": "https://lh3.googleusercontent.com/a-/AOh14GigmwSQWVYPDQmlSHUTZEdOIKMibqKgirvfe2FW7w=s64",
      "userId": "06782114813934659848"
     },
     "user_tz": -420
    },
    "id": "lStKHLbOUZHe",
    "outputId": "5b9f9914-6cb9-4981-a8ca-3f283a0f3c6b"
   },
   "outputs": [
    {
     "data": {
      "text/plain": [
       "Gender               6.210000e-01\n",
       "Married              1.642000e+00\n",
       "Dependents           1.227000e+00\n",
       "Education            8.000000e-01\n",
       "Self_Employed        9.520000e-01\n",
       "ApplicantIncome      0.000000e+00\n",
       "CoapplicantIncome    0.000000e+00\n",
       "LoanAmount           2.200000e-01\n",
       "Loan_Amount_Term     8.500000e-01\n",
       "Credit_History       5.030600e+01\n",
       "Property_Area        1.054000e+00\n",
       "TotalIncome          3.287421e+29\n",
       "Loan/Income          0.000000e+00\n",
       "Loan/Term            5.096000e+00\n",
       "RepaymentRatio       0.000000e+00\n",
       "dtype: float64"
      ]
     },
     "execution_count": 59,
     "metadata": {
      "tags": []
     },
     "output_type": "execute_result"
    }
   ],
   "source": [
    "# odds ratio\n",
    "round(np.exp(result.params), 3)"
   ]
  },
  {
   "cell_type": "markdown",
   "metadata": {
    "id": "4BDHCLqssVcA"
   },
   "source": [
    "PREDIKSI MODEL"
   ]
  },
  {
   "cell_type": "code",
   "execution_count": null,
   "metadata": {
    "id": "jCdNSddnCrwK"
   },
   "outputs": [],
   "source": [
    "prediction = result.predict(X_test)"
   ]
  },
  {
   "cell_type": "code",
   "execution_count": null,
   "metadata": {
    "colab": {
     "base_uri": "https://localhost:8080/",
     "height": 237
    },
    "executionInfo": {
     "elapsed": 65,
     "status": "ok",
     "timestamp": 1628842081245,
     "user": {
      "displayName": "Amri Muhaimin",
      "photoUrl": "https://lh3.googleusercontent.com/a-/AOh14GigmwSQWVYPDQmlSHUTZEdOIKMibqKgirvfe2FW7w=s64",
      "userId": "06782114813934659848"
     },
     "user_tz": -420
    },
    "id": "Yfz4ZgNiHgur",
    "outputId": "9ba24cb3-3b54-48ab-9f68-5b83687cb86f"
   },
   "outputs": [
    {
     "data": {
      "text/html": [
       "<div>\n",
       "<style scoped>\n",
       "    .dataframe tbody tr th:only-of-type {\n",
       "        vertical-align: middle;\n",
       "    }\n",
       "\n",
       "    .dataframe tbody tr th {\n",
       "        vertical-align: top;\n",
       "    }\n",
       "\n",
       "    .dataframe thead th {\n",
       "        text-align: right;\n",
       "    }\n",
       "</style>\n",
       "<table border=\"1\" class=\"dataframe\">\n",
       "  <thead>\n",
       "    <tr style=\"text-align: right;\">\n",
       "      <th></th>\n",
       "      <th>logreg_pred</th>\n",
       "      <th>prediksi</th>\n",
       "      <th>actual</th>\n",
       "    </tr>\n",
       "    <tr>\n",
       "      <th>Loan_ID</th>\n",
       "      <th></th>\n",
       "      <th></th>\n",
       "      <th></th>\n",
       "    </tr>\n",
       "  </thead>\n",
       "  <tbody>\n",
       "    <tr>\n",
       "      <th>LP002139</th>\n",
       "      <td>0.815300</td>\n",
       "      <td>1</td>\n",
       "      <td>1</td>\n",
       "    </tr>\n",
       "    <tr>\n",
       "      <th>LP002223</th>\n",
       "      <td>0.798469</td>\n",
       "      <td>1</td>\n",
       "      <td>1</td>\n",
       "    </tr>\n",
       "    <tr>\n",
       "      <th>LP001570</th>\n",
       "      <td>0.856604</td>\n",
       "      <td>1</td>\n",
       "      <td>1</td>\n",
       "    </tr>\n",
       "    <tr>\n",
       "      <th>LP002978</th>\n",
       "      <td>0.822900</td>\n",
       "      <td>1</td>\n",
       "      <td>1</td>\n",
       "    </tr>\n",
       "    <tr>\n",
       "      <th>LP001478</th>\n",
       "      <td>0.743568</td>\n",
       "      <td>1</td>\n",
       "      <td>1</td>\n",
       "    </tr>\n",
       "  </tbody>\n",
       "</table>\n",
       "</div>"
      ],
      "text/plain": [
       "          logreg_pred  prediksi  actual\n",
       "Loan_ID                                \n",
       "LP002139     0.815300         1       1\n",
       "LP002223     0.798469         1       1\n",
       "LP001570     0.856604         1       1\n",
       "LP002978     0.822900         1       1\n",
       "LP001478     0.743568         1       1"
      ]
     },
     "execution_count": 61,
     "metadata": {
      "tags": []
     },
     "output_type": "execute_result"
    }
   ],
   "source": [
    "pred_results = pd.DataFrame(prediction, columns = [\"logreg_pred\"])\n",
    "pred_results[\"prediksi\"] = pred_results['logreg_pred'].apply(lambda x: 1 if x > 0.5 else 0)\n",
    "pred_results['actual'] = y_test\n",
    "pred_results.head()"
   ]
  },
  {
   "cell_type": "markdown",
   "metadata": {
    "id": "sSJ_Mh8vvTO6"
   },
   "source": [
    "### Evaluation Model"
   ]
  },
  {
   "cell_type": "code",
   "execution_count": null,
   "metadata": {
    "colab": {
     "base_uri": "https://localhost:8080/"
    },
    "executionInfo": {
     "elapsed": 14,
     "status": "ok",
     "timestamp": 1628842083399,
     "user": {
      "displayName": "Amri Muhaimin",
      "photoUrl": "https://lh3.googleusercontent.com/a-/AOh14GigmwSQWVYPDQmlSHUTZEdOIKMibqKgirvfe2FW7w=s64",
      "userId": "06782114813934659848"
     },
     "user_tz": -420
    },
    "id": "6NCwfqB0QM31",
    "outputId": "df6b0efd-7eee-41ef-95d5-031a59aaab95"
   },
   "outputs": [
    {
     "name": "stdout",
     "output_type": "stream",
     "text": [
      "Test accuracy =  0.778\n",
      "Test precision =  0.755\n",
      "Test recall =  0.975\n",
      "Test f-score =  0.851\n"
     ]
    }
   ],
   "source": [
    "print('Test accuracy =  {:.3f}'.format(accuracy_score(pred_results['actual'], pred_results[\"prediksi\"])))\n",
    "print('Test precision =  {:.3f}'.format(precision_score(pred_results['actual'], pred_results[\"prediksi\"], average='binary')))\n",
    "print('Test recall =  {:.3f}'.format(recall_score(pred_results['actual'], pred_results[\"prediksi\"], average='binary')))\n",
    "print('Test f-score =  {:.3f}'.format(f1_score(pred_results['actual'], pred_results[\"prediksi\"], average='binary')))"
   ]
  },
  {
   "cell_type": "markdown",
   "metadata": {
    "id": "Q4D72LBOQl2K"
   },
   "source": [
    "### SKLEARN (Logistic Regression)"
   ]
  },
  {
   "cell_type": "code",
   "execution_count": null,
   "metadata": {
    "colab": {
     "base_uri": "https://localhost:8080/"
    },
    "executionInfo": {
     "elapsed": 113,
     "status": "ok",
     "timestamp": 1628842086338,
     "user": {
      "displayName": "Amri Muhaimin",
      "photoUrl": "https://lh3.googleusercontent.com/a-/AOh14GigmwSQWVYPDQmlSHUTZEdOIKMibqKgirvfe2FW7w=s64",
      "userId": "06782114813934659848"
     },
     "user_tz": -420
    },
    "id": "oqNrK5Sq-pY4",
    "outputId": "8237b82b-bd46-4794-cdff-dfc1660d1369"
   },
   "outputs": [
    {
     "data": {
      "text/plain": [
       "LogisticRegression(C=1.0, class_weight=None, dual=False, fit_intercept=True,\n",
       "                   intercept_scaling=1, l1_ratio=None, max_iter=100,\n",
       "                   multi_class='auto', n_jobs=None, penalty='l2',\n",
       "                   random_state=None, solver='lbfgs', tol=0.0001, verbose=0,\n",
       "                   warm_start=False)"
      ]
     },
     "execution_count": 63,
     "metadata": {
      "tags": []
     },
     "output_type": "execute_result"
    }
   ],
   "source": [
    "LR = LogisticRegression()\n",
    "LR.fit(X_train, y_train)"
   ]
  },
  {
   "cell_type": "code",
   "execution_count": null,
   "metadata": {
    "colab": {
     "base_uri": "https://localhost:8080/",
     "height": 257
    },
    "executionInfo": {
     "elapsed": 82,
     "status": "ok",
     "timestamp": 1628842086340,
     "user": {
      "displayName": "Amri Muhaimin",
      "photoUrl": "https://lh3.googleusercontent.com/a-/AOh14GigmwSQWVYPDQmlSHUTZEdOIKMibqKgirvfe2FW7w=s64",
      "userId": "06782114813934659848"
     },
     "user_tz": -420
    },
    "id": "KN0cJdORWVXR",
    "outputId": "4ed21067-7a4a-4d05-833f-389d5d63abbd"
   },
   "outputs": [
    {
     "data": {
      "text/html": [
       "<div>\n",
       "<style scoped>\n",
       "    .dataframe tbody tr th:only-of-type {\n",
       "        vertical-align: middle;\n",
       "    }\n",
       "\n",
       "    .dataframe tbody tr th {\n",
       "        vertical-align: top;\n",
       "    }\n",
       "\n",
       "    .dataframe thead th {\n",
       "        text-align: right;\n",
       "    }\n",
       "</style>\n",
       "<table border=\"1\" class=\"dataframe\">\n",
       "  <thead>\n",
       "    <tr style=\"text-align: right;\">\n",
       "      <th></th>\n",
       "      <th>Gender</th>\n",
       "      <th>Married</th>\n",
       "      <th>Dependents</th>\n",
       "      <th>Education</th>\n",
       "      <th>Self_Employed</th>\n",
       "      <th>ApplicantIncome</th>\n",
       "      <th>CoapplicantIncome</th>\n",
       "      <th>LoanAmount</th>\n",
       "      <th>Loan_Amount_Term</th>\n",
       "      <th>Credit_History</th>\n",
       "      <th>Property_Area</th>\n",
       "      <th>TotalIncome</th>\n",
       "      <th>Loan/Income</th>\n",
       "      <th>Loan/Term</th>\n",
       "      <th>RepaymentRatio</th>\n",
       "      <th>Loan_Status</th>\n",
       "      <th>prediction</th>\n",
       "    </tr>\n",
       "    <tr>\n",
       "      <th>Loan_ID</th>\n",
       "      <th></th>\n",
       "      <th></th>\n",
       "      <th></th>\n",
       "      <th></th>\n",
       "      <th></th>\n",
       "      <th></th>\n",
       "      <th></th>\n",
       "      <th></th>\n",
       "      <th></th>\n",
       "      <th></th>\n",
       "      <th></th>\n",
       "      <th></th>\n",
       "      <th></th>\n",
       "      <th></th>\n",
       "      <th></th>\n",
       "      <th></th>\n",
       "      <th></th>\n",
       "    </tr>\n",
       "  </thead>\n",
       "  <tbody>\n",
       "    <tr>\n",
       "      <th>LP002139</th>\n",
       "      <td>1</td>\n",
       "      <td>1</td>\n",
       "      <td>0</td>\n",
       "      <td>0</td>\n",
       "      <td>0</td>\n",
       "      <td>0.110489</td>\n",
       "      <td>0.000000</td>\n",
       "      <td>0.316932</td>\n",
       "      <td>0.74359</td>\n",
       "      <td>1</td>\n",
       "      <td>1</td>\n",
       "      <td>0.096043</td>\n",
       "      <td>0.025102</td>\n",
       "      <td>0.633333</td>\n",
       "      <td>0.069727</td>\n",
       "      <td>1</td>\n",
       "      <td>1</td>\n",
       "    </tr>\n",
       "    <tr>\n",
       "      <th>LP002223</th>\n",
       "      <td>1</td>\n",
       "      <td>1</td>\n",
       "      <td>0</td>\n",
       "      <td>0</td>\n",
       "      <td>0</td>\n",
       "      <td>0.051453</td>\n",
       "      <td>0.000000</td>\n",
       "      <td>0.175109</td>\n",
       "      <td>0.74359</td>\n",
       "      <td>1</td>\n",
       "      <td>1</td>\n",
       "      <td>0.036049</td>\n",
       "      <td>0.030162</td>\n",
       "      <td>0.361111</td>\n",
       "      <td>0.083784</td>\n",
       "      <td>1</td>\n",
       "      <td>1</td>\n",
       "    </tr>\n",
       "    <tr>\n",
       "      <th>LP001570</th>\n",
       "      <td>1</td>\n",
       "      <td>1</td>\n",
       "      <td>2</td>\n",
       "      <td>0</td>\n",
       "      <td>0</td>\n",
       "      <td>0.049685</td>\n",
       "      <td>0.034728</td>\n",
       "      <td>0.215630</td>\n",
       "      <td>0.74359</td>\n",
       "      <td>1</td>\n",
       "      <td>0</td>\n",
       "      <td>0.052440</td>\n",
       "      <td>0.028144</td>\n",
       "      <td>0.438889</td>\n",
       "      <td>0.078178</td>\n",
       "      <td>1</td>\n",
       "      <td>1</td>\n",
       "    </tr>\n",
       "    <tr>\n",
       "      <th>LP002978</th>\n",
       "      <td>0</td>\n",
       "      <td>0</td>\n",
       "      <td>0</td>\n",
       "      <td>0</td>\n",
       "      <td>0</td>\n",
       "      <td>0.034014</td>\n",
       "      <td>0.000000</td>\n",
       "      <td>0.089725</td>\n",
       "      <td>0.74359</td>\n",
       "      <td>1</td>\n",
       "      <td>0</td>\n",
       "      <td>0.018326</td>\n",
       "      <td>0.024483</td>\n",
       "      <td>0.197222</td>\n",
       "      <td>0.068008</td>\n",
       "      <td>1</td>\n",
       "      <td>1</td>\n",
       "    </tr>\n",
       "    <tr>\n",
       "      <th>LP001478</th>\n",
       "      <td>1</td>\n",
       "      <td>0</td>\n",
       "      <td>0</td>\n",
       "      <td>0</td>\n",
       "      <td>0</td>\n",
       "      <td>0.031763</td>\n",
       "      <td>0.000000</td>\n",
       "      <td>0.088278</td>\n",
       "      <td>0.74359</td>\n",
       "      <td>1</td>\n",
       "      <td>1</td>\n",
       "      <td>0.016039</td>\n",
       "      <td>0.025754</td>\n",
       "      <td>0.194444</td>\n",
       "      <td>0.071540</td>\n",
       "      <td>1</td>\n",
       "      <td>1</td>\n",
       "    </tr>\n",
       "  </tbody>\n",
       "</table>\n",
       "</div>"
      ],
      "text/plain": [
       "          Gender  Married  Dependents  ...  RepaymentRatio  Loan_Status  prediction\n",
       "Loan_ID                                ...                                         \n",
       "LP002139       1        1           0  ...        0.069727            1           1\n",
       "LP002223       1        1           0  ...        0.083784            1           1\n",
       "LP001570       1        1           2  ...        0.078178            1           1\n",
       "LP002978       0        0           0  ...        0.068008            1           1\n",
       "LP001478       1        0           0  ...        0.071540            1           1\n",
       "\n",
       "[5 rows x 17 columns]"
      ]
     },
     "execution_count": 64,
     "metadata": {
      "tags": []
     },
     "output_type": "execute_result"
    }
   ],
   "source": [
    "y_pred = LR.predict(X_test)\n",
    "logreg_test = pd.merge(X_test, y_test, left_index=True, right_index=True, how='outer')\n",
    "logreg_test['prediction'] = y_pred\n",
    "logreg_test.head()\n"
   ]
  },
  {
   "cell_type": "code",
   "execution_count": null,
   "metadata": {
    "colab": {
     "base_uri": "https://localhost:8080/"
    },
    "executionInfo": {
     "elapsed": 64,
     "status": "ok",
     "timestamp": 1628842086344,
     "user": {
      "displayName": "Amri Muhaimin",
      "photoUrl": "https://lh3.googleusercontent.com/a-/AOh14GigmwSQWVYPDQmlSHUTZEdOIKMibqKgirvfe2FW7w=s64",
      "userId": "06782114813934659848"
     },
     "user_tz": -420
    },
    "id": "YrbXoKi4cZx7",
    "outputId": "6f0792aa-ce23-43eb-f34a-98555ee03521"
   },
   "outputs": [
    {
     "name": "stdout",
     "output_type": "stream",
     "text": [
      "Accuracy of logistic regression classifier train data: 0.821\n",
      "Accuracy of logistic regression classifier test data: 0.784\n"
     ]
    }
   ],
   "source": [
    "print('Accuracy of logistic regression classifier train data: {:.3f}'.format(LR.score(X_train, y_train)))\n",
    "print('Accuracy of logistic regression classifier test data: {:.3f}'.format(LR.score(X_test, y_test)))"
   ]
  },
  {
   "cell_type": "markdown",
   "metadata": {
    "id": "XLb6sPb1wmGu"
   },
   "source": [
    "### Evaluation Model"
   ]
  },
  {
   "cell_type": "markdown",
   "metadata": {
    "id": "nSjweD0uwVQ-"
   },
   "source": [
    "Menerapkan cross validation pada model"
   ]
  },
  {
   "cell_type": "code",
   "execution_count": null,
   "metadata": {
    "id": "Wc9A8RzMvl_z"
   },
   "outputs": [],
   "source": [
    "# Memilih k-fold (dipilih k = 5)\n",
    "kfold = KFold(n_splits=5, shuffle=True, random_state=42)"
   ]
  },
  {
   "cell_type": "code",
   "execution_count": null,
   "metadata": {
    "colab": {
     "base_uri": "https://localhost:8080/"
    },
    "executionInfo": {
     "elapsed": 19,
     "status": "ok",
     "timestamp": 1628842089189,
     "user": {
      "displayName": "Amri Muhaimin",
      "photoUrl": "https://lh3.googleusercontent.com/a-/AOh14GigmwSQWVYPDQmlSHUTZEdOIKMibqKgirvfe2FW7w=s64",
      "userId": "06782114813934659848"
     },
     "user_tz": -420
    },
    "id": "OE2HD5NsQbby",
    "outputId": "7c92dc47-20fd-4019-b941-a67879d48124"
   },
   "outputs": [
    {
     "name": "stdout",
     "output_type": "stream",
     "text": [
      "Cross-validation scores: 0.816\n"
     ]
    }
   ],
   "source": [
    "logreg = LogisticRegression(solver='lbfgs', max_iter=1000)\n",
    "scores = cross_val_score(logreg, X_train, y_train, cv=kfold)\n",
    "print(\"Cross-validation scores: {:.3f}\".format(scores.mean()))"
   ]
  },
  {
   "cell_type": "markdown",
   "metadata": {
    "id": "wR4Af63ey2u3"
   },
   "source": [
    "Dari hasil cross validation dengan menggunakan k-fold didapat rata-rata score adalah 0,816 dimana terhitung sudah rumayan bagus. Mengalami penurunan dibanding hasil train sebelumnya, hal ini bisa saja dikarenakan persebaran train test data tidak merata untuk karakteristik tertentu.\n",
    "<br>\n",
    "Untuk membuat hasil model lebih bagus lagi maka akan dilakukan tuning parameter untuk meningkatkan kinerja model."
   ]
  },
  {
   "cell_type": "code",
   "execution_count": null,
   "metadata": {
    "colab": {
     "base_uri": "https://localhost:8080/"
    },
    "executionInfo": {
     "elapsed": 1670,
     "status": "ok",
     "timestamp": 1628842091550,
     "user": {
      "displayName": "Amri Muhaimin",
      "photoUrl": "https://lh3.googleusercontent.com/a-/AOh14GigmwSQWVYPDQmlSHUTZEdOIKMibqKgirvfe2FW7w=s64",
      "userId": "06782114813934659848"
     },
     "user_tz": -420
    },
    "id": "gBmgMoZDzV9Z",
    "outputId": "6353e586-806d-4dfc-d9d9-b033172b2b39"
   },
   "outputs": [
    {
     "name": "stdout",
     "output_type": "stream",
     "text": [
      "Best parameters: {'C': 10, 'class_weight': None}\n",
      "Best cross-validation score: 0.821\n"
     ]
    }
   ],
   "source": [
    "param_grid_lr = { 'C': [0.001, 0.01, 0.1, 1, 10, 100],\n",
    "                 'class_weight':['balanced', None]}\n",
    "\n",
    "grid_search_lr = GridSearchCV(logreg, param_grid_lr, cv=kfold)\n",
    "grid_search_lr.fit(X_train, y_train)\n",
    "print(\"Best parameters: {}\".format(grid_search_lr.best_params_))\n",
    "print(\"Best cross-validation score: {:.3}\".format(grid_search_lr.best_score_))"
   ]
  },
  {
   "cell_type": "markdown",
   "metadata": {
    "id": "i_1n0k3T1qGj"
   },
   "source": [
    "Terjadi peningkatan model score ketika dilakukan tuning parameter."
   ]
  },
  {
   "cell_type": "code",
   "execution_count": null,
   "metadata": {
    "colab": {
     "base_uri": "https://localhost:8080/"
    },
    "executionInfo": {
     "elapsed": 39,
     "status": "ok",
     "timestamp": 1628842091553,
     "user": {
      "displayName": "Amri Muhaimin",
      "photoUrl": "https://lh3.googleusercontent.com/a-/AOh14GigmwSQWVYPDQmlSHUTZEdOIKMibqKgirvfe2FW7w=s64",
      "userId": "06782114813934659848"
     },
     "user_tz": -420
    },
    "id": "9Y0Cs6Jv5SnB",
    "outputId": "71513517-4dc9-43af-c1b7-c3f516b0da7e"
   },
   "outputs": [
    {
     "name": "stdout",
     "output_type": "stream",
     "text": [
      "Accuracy scores:  [0.809462881514061]\n",
      "f1 scores:  [0.8756779670227608]\n",
      "Precision scores:  [0.7926402412388857]\n",
      "Recall scores:  [0.9789085751983148]\n"
     ]
    }
   ],
   "source": [
    "scoring = {'acc': 'accuracy',\n",
    "           'F1': 'f1',\n",
    "           'prec': 'precision',\n",
    "           'recall':'recall'}\n",
    " \n",
    "acc = []\n",
    "f1 = []\n",
    "prec = []\n",
    "recall = []\n",
    " \n",
    "logreg = LogisticRegression(C = 10)\n",
    "scores = cross_validate(logreg, X, y, cv=kfold, scoring=scoring)\n",
    " \n",
    "acc.append(scores['test_acc'].mean())\n",
    "f1.append(scores['test_F1'].mean())\n",
    "prec.append(scores['test_prec'].mean())\n",
    "recall.append(scores['test_recall'].mean())\n",
    " \n",
    " \n",
    "print(\"Accuracy scores: \", acc)\n",
    "print(\"f1 scores: \", f1)\n",
    "print(\"Precision scores: \", prec)\n",
    "print(\"Recall scores: \", recall)"
   ]
  },
  {
   "cell_type": "code",
   "execution_count": null,
   "metadata": {
    "colab": {
     "base_uri": "https://localhost:8080/"
    },
    "executionInfo": {
     "elapsed": 66,
     "status": "ok",
     "timestamp": 1628842093657,
     "user": {
      "displayName": "Amri Muhaimin",
      "photoUrl": "https://lh3.googleusercontent.com/a-/AOh14GigmwSQWVYPDQmlSHUTZEdOIKMibqKgirvfe2FW7w=s64",
      "userId": "06782114813934659848"
     },
     "user_tz": -420
    },
    "id": "-v2AghrBA9GO",
    "outputId": "90b06b45-c1ff-4668-98a5-235b8e876a14"
   },
   "outputs": [
    {
     "name": "stdout",
     "output_type": "stream",
     "text": [
      "Accuracy score:  0.7837837837837838\n",
      "Recall score:  0.7564102564102564\n"
     ]
    }
   ],
   "source": [
    "# Terapkan pada data test\n",
    "logreg.fit(X_train, y_train)\n",
    "predictions = logreg.predict(X_test)\n",
    " \n",
    "print(\"Accuracy score: \", accuracy_score(predictions, y_test))\n",
    "print(\"Recall score: \", recall_score(predictions, y_test))"
   ]
  },
  {
   "cell_type": "markdown",
   "metadata": {
    "id": "uRpo--_yBaAS"
   },
   "source": [
    "Untuk hasil evaluasi model didapat hasil yang cukup bagus, dan apabila di lihat hasil scoring pada data train dan test, score menunjukkan angka yang bagus dan tidak ada perbedaan yang signifikan antara keduanya. dapat disimpulkan bahwa model tidak mengalami underfitting dan overfitting."
   ]
  }
 ],
 "metadata": {
  "colab": {
   "collapsed_sections": [],
   "name": "Binary Classification.ipynb",
   "provenance": []
  },
  "kernelspec": {
   "display_name": "Python 3 (ipykernel)",
   "language": "python",
   "name": "python3"
  },
  "language_info": {
   "codemirror_mode": {
    "name": "ipython",
    "version": 3
   },
   "file_extension": ".py",
   "mimetype": "text/x-python",
   "name": "python",
   "nbconvert_exporter": "python",
   "pygments_lexer": "ipython3",
   "version": "3.9.12"
  }
 },
 "nbformat": 4,
 "nbformat_minor": 1
}
